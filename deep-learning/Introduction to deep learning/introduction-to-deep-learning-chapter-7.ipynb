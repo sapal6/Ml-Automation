{
 "cells": [
  {
   "cell_type": "markdown",
   "metadata": {
    "papermill": {
     "duration": 0.03397,
     "end_time": "2021-03-02T09:58:50.409972",
     "exception": false,
     "start_time": "2021-03-02T09:58:50.376002",
     "status": "completed"
    },
    "tags": []
   },
   "source": [
    "> This post is based on the [fastook draft chapter_04](https://github.com/fastai/fastbook/blob/master/04_mnist_basics.ipynb). The ideas presented in this post are the learnings which I got by reading the fastbook."
   ]
  },
  {
   "cell_type": "markdown",
   "metadata": {
    "papermill": {
     "duration": 0.04395,
     "end_time": "2021-03-02T09:58:50.487284",
     "exception": false,
     "start_time": "2021-03-02T09:58:50.443334",
     "status": "completed"
    },
    "tags": []
   },
   "source": [
    "Many of you must be knowing that the [MNIST dataset](http://yann.lecun.com/exdb/mnist/) is a toy example to learn the tricks of machine learning but a  few years ago recognizing handwritten digits using machine learning was a very challenging task.\n",
    "\n",
    "This simple dataset makes it possible for us to apply simple models quickly with less compute resource. This helps us to learn,  experiment and benchmark different machine learning techniques and algorithms.\n",
    "\n",
    "In this post we will use this dataset to build a very simple model which can recognize handwritten digits but we won't be using machine learning or any other fancy techniques to do that.\n",
    "\n",
    "Keep reading to find out how 👇👇"
   ]
  },
  {
   "cell_type": "markdown",
   "metadata": {
    "papermill": {
     "duration": 0.032219,
     "end_time": "2021-03-02T09:58:50.552525",
     "exception": false,
     "start_time": "2021-03-02T09:58:50.520306",
     "status": "completed"
    },
    "tags": []
   },
   "source": [
    "## Get Necessary Things First\n",
    "\n",
    "First import the vision module in fastai. This provides you with ussefull functions which can be used in the later part of this post. For people who are new to python, the `from ... import` is a way to tell python that \"from\" a directory/file \"import\" something"
   ]
  },
  {
   "cell_type": "code",
   "execution_count": 1,
   "metadata": {
    "_cell_guid": "b1076dfc-b9ad-4769-8c92-a6c4dae69d19",
    "_uuid": "8f2839f25d086af736a60e9eeb907d3b93b6e0e5",
    "execution": {
     "iopub.execute_input": "2021-03-02T09:58:50.623987Z",
     "iopub.status.busy": "2021-03-02T09:58:50.623231Z",
     "iopub.status.idle": "2021-03-02T09:58:53.501462Z",
     "shell.execute_reply": "2021-03-02T09:58:53.502171Z"
    },
    "papermill": {
     "duration": 2.917333,
     "end_time": "2021-03-02T09:58:53.502411",
     "exception": false,
     "start_time": "2021-03-02T09:58:50.585078",
     "status": "completed"
    },
    "tags": []
   },
   "outputs": [],
   "source": [
    "from fastai.vision.all import *"
   ]
  },
  {
   "cell_type": "markdown",
   "metadata": {
    "papermill": {
     "duration": 0.031949,
     "end_time": "2021-03-02T09:58:53.567066",
     "exception": false,
     "start_time": "2021-03-02T09:58:53.535117",
     "status": "completed"
    },
    "tags": []
   },
   "source": [
    "Fastai makes it easy to play around with the MNIST dataset by providing  a subset of this dataset. This can be downloaded using the `untar_data` function. Provide the `URLs.MNIST_SAMPLE` part inside the function and that dataset will be downloaded for you, unzipped and the path will be returned. \n",
    "\n",
    "It can't get any easier 😉"
   ]
  },
  {
   "cell_type": "code",
   "execution_count": 2,
   "metadata": {
    "_cell_guid": "79c7e3d0-c299-4dcb-8224-4455121ee9b0",
    "_uuid": "d629ff2d2480ee46fbb7e2d37f6b5fab8052498a",
    "execution": {
     "iopub.execute_input": "2021-03-02T09:58:53.636024Z",
     "iopub.status.busy": "2021-03-02T09:58:53.635206Z",
     "iopub.status.idle": "2021-03-02T09:58:58.435329Z",
     "shell.execute_reply": "2021-03-02T09:58:58.436039Z"
    },
    "papermill": {
     "duration": 4.83668,
     "end_time": "2021-03-02T09:58:58.436314",
     "exception": false,
     "start_time": "2021-03-02T09:58:53.599634",
     "status": "completed"
    },
    "tags": []
   },
   "outputs": [
    {
     "data": {
      "text/html": [],
      "text/plain": [
       "<IPython.core.display.HTML object>"
      ]
     },
     "metadata": {},
     "output_type": "display_data"
    }
   ],
   "source": [
    "path=untar_data(URLs.MNIST_SAMPLE)"
   ]
  },
  {
   "cell_type": "markdown",
   "metadata": {
    "papermill": {
     "duration": 0.032365,
     "end_time": "2021-03-02T09:58:58.502483",
     "exception": false,
     "start_time": "2021-03-02T09:58:58.470118",
     "status": "completed"
    },
    "tags": []
   },
   "source": [
    "I will quickly check what I have got in the `path` variable."
   ]
  },
  {
   "cell_type": "code",
   "execution_count": 3,
   "metadata": {
    "execution": {
     "iopub.execute_input": "2021-03-02T09:58:58.574677Z",
     "iopub.status.busy": "2021-03-02T09:58:58.573562Z",
     "iopub.status.idle": "2021-03-02T09:58:58.578258Z",
     "shell.execute_reply": "2021-03-02T09:58:58.578738Z"
    },
    "papermill": {
     "duration": 0.043548,
     "end_time": "2021-03-02T09:58:58.578940",
     "exception": false,
     "start_time": "2021-03-02T09:58:58.535392",
     "status": "completed"
    },
    "tags": []
   },
   "outputs": [
    {
     "data": {
      "text/plain": [
       "(#3) [Path('/root/.fastai/data/mnist_sample/valid'),Path('/root/.fastai/data/mnist_sample/labels.csv'),Path('/root/.fastai/data/mnist_sample/train')]"
      ]
     },
     "execution_count": 3,
     "metadata": {},
     "output_type": "execute_result"
    }
   ],
   "source": [
    "path.ls()"
   ]
  },
  {
   "cell_type": "markdown",
   "metadata": {
    "papermill": {
     "duration": 0.033021,
     "end_time": "2021-03-02T09:58:58.645433",
     "exception": false,
     "start_time": "2021-03-02T09:58:58.612412",
     "status": "completed"
    },
    "tags": []
   },
   "source": [
    "The `path` variable is an object of an internal class in python. This class is `Path` which gives you a method `ls()` which gives you back all the contents in a path.\n",
    "\n",
    "As you see I got 2 folders and 1 file in there.\n",
    "1. valid\n",
    "2. train\n",
    "3. labels.csv\n",
    "\n",
    "I will also do a quick check of what I got inside the train folder. Doing quick checks like this helps me to know my position in this world 👼.\n",
    "\n",
    "Sorry I got a little carried away out there. What I meant was that by doing quick checks I know I am dealing with the right things\n",
    "\n",
    "Once again I will use the `ls` method to list things inside a directory."
   ]
  },
  {
   "cell_type": "code",
   "execution_count": 4,
   "metadata": {
    "execution": {
     "iopub.execute_input": "2021-03-02T09:58:58.718203Z",
     "iopub.status.busy": "2021-03-02T09:58:58.717122Z",
     "iopub.status.idle": "2021-03-02T09:58:58.740677Z",
     "shell.execute_reply": "2021-03-02T09:58:58.741243Z"
    },
    "papermill": {
     "duration": 0.062172,
     "end_time": "2021-03-02T09:58:58.741458",
     "exception": false,
     "start_time": "2021-03-02T09:58:58.679286",
     "status": "completed"
    },
    "tags": []
   },
   "outputs": [],
   "source": [
    "imgof3=(path/'train'/'3').ls()"
   ]
  },
  {
   "cell_type": "markdown",
   "metadata": {
    "papermill": {
     "duration": 0.040195,
     "end_time": "2021-03-02T09:58:58.816596",
     "exception": false,
     "start_time": "2021-03-02T09:58:58.776401",
     "status": "completed"
    },
    "tags": []
   },
   "source": [
    "Fastai wraps another inside it to help you work with images in a easier way. This is the [\"PIL\" library](https://pillow.readthedocs.io/en/stable/). This provides a class `Image` which has a method `open`. this opens up an image for you."
   ]
  },
  {
   "cell_type": "code",
   "execution_count": 5,
   "metadata": {
    "execution": {
     "iopub.execute_input": "2021-03-02T09:58:58.902466Z",
     "iopub.status.busy": "2021-03-02T09:58:58.901346Z",
     "iopub.status.idle": "2021-03-02T09:58:58.932854Z",
     "shell.execute_reply": "2021-03-02T09:58:58.933432Z"
    },
    "papermill": {
     "duration": 0.0765,
     "end_time": "2021-03-02T09:58:58.933647",
     "exception": false,
     "start_time": "2021-03-02T09:58:58.857147",
     "status": "completed"
    },
    "tags": []
   },
   "outputs": [
    {
     "data": {
      "image/png": "[encoded data removed]",
      "text/plain": [
       "<PIL.PngImagePlugin.PngImageFile image mode=L size=28x28 at 0x7F3E05B92D50>"
      ]
     },
     "execution_count": 5,
     "metadata": {},
     "output_type": "execute_result"
    }
   ],
   "source": [
    "Image.open(imgof3[1])"
   ]
  },
  {
   "cell_type": "markdown",
   "metadata": {
    "papermill": {
     "duration": 0.034289,
     "end_time": "2021-03-02T09:58:59.002745",
     "exception": false,
     "start_time": "2021-03-02T09:58:58.968456",
     "status": "completed"
    },
    "tags": []
   },
   "source": [
    "Look! We got a 3 in there.\n",
    "\n",
    "One thing to note is that the \"3\" which you see above is an image but computers can use plain images for anything. They can only understand numbers.\n",
    "\n",
    "What do we do now?"
   ]
  },
  {
   "cell_type": "markdown",
   "metadata": {
    "papermill": {
     "duration": 0.033749,
     "end_time": "2021-03-02T09:58:59.071165",
     "exception": false,
     "start_time": "2021-03-02T09:58:59.037416",
     "status": "completed"
    },
    "tags": []
   },
   "source": [
    "## Prepare The Ingredients🍞\n",
    "\n",
    "\n",
    "We will have to convert these images into numbers. For this fastai provides a function known as `tensor` which converts the image into a matrix of numbers.\n",
    "\n",
    "Let's see what this function does. You can do this by putting a question mark(?) after this function. This is a way in which jupyter notebook allows you to view the details about an object(functions, classes etc.)"
   ]
  },
  {
   "cell_type": "code",
   "execution_count": 6,
   "metadata": {
    "execution": {
     "iopub.execute_input": "2021-03-02T09:58:59.145466Z",
     "iopub.status.busy": "2021-03-02T09:58:59.144294Z",
     "iopub.status.idle": "2021-03-02T09:58:59.218319Z",
     "shell.execute_reply": "2021-03-02T09:58:59.217496Z"
    },
    "papermill": {
     "duration": 0.112811,
     "end_time": "2021-03-02T09:58:59.218481",
     "exception": false,
     "start_time": "2021-03-02T09:58:59.105670",
     "status": "completed"
    },
    "tags": []
   },
   "outputs": [],
   "source": [
    "tensor?"
   ]
  },
  {
   "cell_type": "markdown",
   "metadata": {
    "papermill": {
     "duration": 0.034445,
     "end_time": "2021-03-02T09:58:59.287652",
     "exception": false,
     "start_time": "2021-03-02T09:58:59.253207",
     "status": "completed"
    },
    "tags": []
   },
   "source": [
    "Doing the above trick gives you a view of the function signature and the arguments which the function accepts. This function has a similar cousin in the pytorch library which does the same thing but the fastai's version handles lists as well.\n",
    "\n",
    "Remember that an image is actually a matrix of numbers. Read this [article](https://medium.com/ml-and-automation/how-do-convolutional-neural-network-works-c0b0a93697e6) where I explain this in detail with visualization. Since an image is just a collection of numbers, the `tensor` function takes it and gives back a multidimensional representation of this image.\n",
    "\n",
    "> Don't be afraid of the **Tensor**. A tensor is actually similar to a multidimensional array like this `[[1 2], [3 4]]`. The deep learning world is full of jargons and this is one example of such a jargon.\n",
    "\n",
    "In the below code I call the `Image.open` method from the PIL library and feed it a sample image from the `imgof3` variable.\n",
    "\n",
    "> Look how I wrap the `Image.open` method inside the `tensor` function. In python you can do like this `func1(func2(func3...))`. This executes the innermost function first and then gradually moves out towards the outer function."
   ]
  },
  {
   "cell_type": "code",
   "execution_count": 7,
   "metadata": {
    "execution": {
     "iopub.execute_input": "2021-03-02T09:58:59.364110Z",
     "iopub.status.busy": "2021-03-02T09:58:59.362986Z",
     "iopub.status.idle": "2021-03-02T09:58:59.382376Z",
     "shell.execute_reply": "2021-03-02T09:58:59.381634Z"
    },
    "papermill": {
     "duration": 0.060084,
     "end_time": "2021-03-02T09:58:59.382513",
     "exception": false,
     "start_time": "2021-03-02T09:58:59.322429",
     "status": "completed"
    },
    "tags": []
   },
   "outputs": [
    {
     "data": {
      "text/plain": [
       "tensor([[  0,   0,   0,   0,   0,   0,   0,   0,   0,   0,   0,   0,   0,   0,\n",
       "           0,   0,   0,   0,   0,   0,   0,   0,   0,   0,   0,   0,   0,   0],\n",
       "        [  0,   0,   0,   0,   0,   0,   0,   0,   0,   0,   0,   0,   0,   0,\n",
       "           0,   0,   0,   0,   0,   0,   0,   0,   0,   0,   0,   0,   0,   0],\n",
       "        [  0,   0,   0,   0,   0,   0,   0,   0,   0,   0,   0,   0,   0,   0,\n",
       "           0,   0,   0,   0,   0,   0,   0,   0,   0,   0,   0,   0,   0,   0],\n",
       "        [  0,   0,   0,   0,   0,   0,   0,   0,   0,   0,   0,   0,   0,   0,\n",
       "           0,   0,   0,   0,   0,   0,   0,   0,   0,   0,   0,   0,   0,   0],\n",
       "        [  0,   0,   0,   0,   0,   0,   0,   0,   0,   0,   0,   0,   0,   0,\n",
       "           0,   0,   0,   0,   0,   0,   0,   0,   0,   0,   0,   0,   0,   0],\n",
       "        [  0,   0,   0,   0,   0,   0,   0,   0,   7, 146, 229, 254, 255, 255,\n",
       "         254, 255, 255, 197,  63,   0,   0,   0,   0,   0,   0,   0,   0,   0],\n",
       "        [  0,   0,   0,   0,   0,   0,   0,  35,  61,  91, 177, 177, 154, 109,\n",
       "         177, 177, 207, 253, 208,  13,   0,   0,   0,   0,   0,   0,   0,   0],\n",
       "        [  0,   0,   0,   0,   0,   0,   0,  47,   0,   0,   0,   0,   0,   0,\n",
       "           0,   0,  59, 249, 224,  24,   0,   0,   0,   0,   0,   0,   0,   0],\n",
       "        [  0,   0,   0,   0,   0,   0,   0,   0,   0,   0,   0,   0,   0,   0,\n",
       "           0, 101, 234, 253, 170,   0,   0,   0,   0,   0,   0,   0,   0,   0],\n",
       "        [  0,   0,   0,   0,   0,   0,   0,   0,   0,   0,   0,   0,   0,   0,\n",
       "          52, 232, 253, 198,  21,   0,   0,   0,   0,   0,   0,   0,   0,   0]],\n",
       "       dtype=torch.uint8)"
      ]
     },
     "execution_count": 7,
     "metadata": {},
     "output_type": "execute_result"
    }
   ],
   "source": [
    "tensorof3=tensor(Image.open(imgof3[1]))\n",
    "tensorof3[:10]"
   ]
  },
  {
   "cell_type": "markdown",
   "metadata": {
    "papermill": {
     "duration": 0.034978,
     "end_time": "2021-03-02T09:58:59.452779",
     "exception": false,
     "start_time": "2021-03-02T09:58:59.417801",
     "status": "completed"
    },
    "tags": []
   },
   "source": [
    "Look! what we got from the image. It's hard to make out if it's a 3 in there or something else 🤨. Let's get a better look at it. To do this I take this into a pandas dataframe and then display it with some color. \n",
    "\n",
    "I have taken the below code from the [fastbook-chapter04](https://github.com/fastai/fastbook/blob/master/04_mnist_basics.ipynb)"
   ]
  },
  {
   "cell_type": "code",
   "execution_count": 8,
   "metadata": {
    "execution": {
     "iopub.execute_input": "2021-03-02T09:58:59.533291Z",
     "iopub.status.busy": "2021-03-02T09:58:59.532018Z",
     "iopub.status.idle": "2021-03-02T09:58:59.974292Z",
     "shell.execute_reply": "2021-03-02T09:58:59.974893Z"
    },
    "papermill": {
     "duration": 0.487132,
     "end_time": "2021-03-02T09:58:59.975075",
     "exception": false,
     "start_time": "2021-03-02T09:58:59.487943",
     "status": "completed"
    },
    "tags": []
   },
   "outputs": [
    {
     "data": {
      "text/html": [
       "<style  type=\"text/css\" >\n",
       "#T_e906b46a_7b3d_11eb_9cf4_0242ac130202row0_col0,#T_e906b46a_7b3d_11eb_9cf4_0242ac130202row0_col1,#T_e906b46a_7b3d_11eb_9cf4_0242ac130202row0_col2,#T_e906b46a_7b3d_11eb_9cf4_0242ac130202row0_col3,#T_e906b46a_7b3d_11eb_9cf4_0242ac130202row0_col4,#T_e906b46a_7b3d_11eb_9cf4_0242ac130202row0_col5,#T_e906b46a_7b3d_11eb_9cf4_0242ac130202row0_col6,#T_e906b46a_7b3d_11eb_9cf4_0242ac130202row0_col7,#T_e906b46a_7b3d_11eb_9cf4_0242ac130202row0_col8,#T_e906b46a_7b3d_11eb_9cf4_0242ac130202row0_col9,#T_e906b46a_7b3d_11eb_9cf4_0242ac130202row0_col10,#T_e906b46a_7b3d_11eb_9cf4_0242ac130202row0_col11,#T_e906b46a_7b3d_11eb_9cf4_0242ac130202row0_col12,#T_e906b46a_7b3d_11eb_9cf4_0242ac130202row0_col13,#T_e906b46a_7b3d_11eb_9cf4_0242ac130202row0_col14,#T_e906b46a_7b3d_11eb_9cf4_0242ac130202row0_col15,#T_e906b46a_7b3d_11eb_9cf4_0242ac130202row0_col16,#T_e906b46a_7b3d_11eb_9cf4_0242ac130202row0_col17,#T_e906b46a_7b3d_11eb_9cf4_0242ac130202row0_col18,#T_e906b46a_7b3d_11eb_9cf4_0242ac130202row0_col19,#T_e906b46a_7b3d_11eb_9cf4_0242ac130202row1_col0,#T_e906b46a_7b3d_11eb_9cf4_0242ac130202row1_col1,#T_e906b46a_7b3d_11eb_9cf4_0242ac130202row1_col2,#T_e906b46a_7b3d_11eb_9cf4_0242ac130202row1_col3,#T_e906b46a_7b3d_11eb_9cf4_0242ac130202row1_col15,#T_e906b46a_7b3d_11eb_9cf4_0242ac130202row1_col16,#T_e906b46a_7b3d_11eb_9cf4_0242ac130202row1_col17,#T_e906b46a_7b3d_11eb_9cf4_0242ac130202row1_col18,#T_e906b46a_7b3d_11eb_9cf4_0242ac130202row1_col19,#T_e906b46a_7b3d_11eb_9cf4_0242ac130202row2_col0,#T_e906b46a_7b3d_11eb_9cf4_0242ac130202row2_col1,#T_e906b46a_7b3d_11eb_9cf4_0242ac130202row2_col2,#T_e906b46a_7b3d_11eb_9cf4_0242ac130202row2_col16,#T_e906b46a_7b3d_11eb_9cf4_0242ac130202row2_col17,#T_e906b46a_7b3d_11eb_9cf4_0242ac130202row2_col18,#T_e906b46a_7b3d_11eb_9cf4_0242ac130202row2_col19,#T_e906b46a_7b3d_11eb_9cf4_0242ac130202row3_col0,#T_e906b46a_7b3d_11eb_9cf4_0242ac130202row3_col1,#T_e906b46a_7b3d_11eb_9cf4_0242ac130202row3_col2,#T_e906b46a_7b3d_11eb_9cf4_0242ac130202row3_col4,#T_e906b46a_7b3d_11eb_9cf4_0242ac130202row3_col5,#T_e906b46a_7b3d_11eb_9cf4_0242ac130202row3_col6,#T_e906b46a_7b3d_11eb_9cf4_0242ac130202row3_col7,#T_e906b46a_7b3d_11eb_9cf4_0242ac130202row3_col8,#T_e906b46a_7b3d_11eb_9cf4_0242ac130202row3_col9,#T_e906b46a_7b3d_11eb_9cf4_0242ac130202row3_col10,#T_e906b46a_7b3d_11eb_9cf4_0242ac130202row3_col11,#T_e906b46a_7b3d_11eb_9cf4_0242ac130202row3_col16,#T_e906b46a_7b3d_11eb_9cf4_0242ac130202row3_col17,#T_e906b46a_7b3d_11eb_9cf4_0242ac130202row3_col18,#T_e906b46a_7b3d_11eb_9cf4_0242ac130202row3_col19,#T_e906b46a_7b3d_11eb_9cf4_0242ac130202row4_col0,#T_e906b46a_7b3d_11eb_9cf4_0242ac130202row4_col1,#T_e906b46a_7b3d_11eb_9cf4_0242ac130202row4_col2,#T_e906b46a_7b3d_11eb_9cf4_0242ac130202row4_col3,#T_e906b46a_7b3d_11eb_9cf4_0242ac130202row4_col4,#T_e906b46a_7b3d_11eb_9cf4_0242ac130202row4_col5,#T_e906b46a_7b3d_11eb_9cf4_0242ac130202row4_col6,#T_e906b46a_7b3d_11eb_9cf4_0242ac130202row4_col7,#T_e906b46a_7b3d_11eb_9cf4_0242ac130202row4_col8,#T_e906b46a_7b3d_11eb_9cf4_0242ac130202row4_col9,#T_e906b46a_7b3d_11eb_9cf4_0242ac130202row4_col10,#T_e906b46a_7b3d_11eb_9cf4_0242ac130202row4_col15,#T_e906b46a_7b3d_11eb_9cf4_0242ac130202row4_col16,#T_e906b46a_7b3d_11eb_9cf4_0242ac130202row4_col17,#T_e906b46a_7b3d_11eb_9cf4_0242ac130202row4_col18,#T_e906b46a_7b3d_11eb_9cf4_0242ac130202row4_col19,#T_e906b46a_7b3d_11eb_9cf4_0242ac130202row5_col0,#T_e906b46a_7b3d_11eb_9cf4_0242ac130202row5_col1,#T_e906b46a_7b3d_11eb_9cf4_0242ac130202row5_col2,#T_e906b46a_7b3d_11eb_9cf4_0242ac130202row5_col3,#T_e906b46a_7b3d_11eb_9cf4_0242ac130202row5_col4,#T_e906b46a_7b3d_11eb_9cf4_0242ac130202row5_col5,#T_e906b46a_7b3d_11eb_9cf4_0242ac130202row5_col6,#T_e906b46a_7b3d_11eb_9cf4_0242ac130202row5_col7,#T_e906b46a_7b3d_11eb_9cf4_0242ac130202row5_col8,#T_e906b46a_7b3d_11eb_9cf4_0242ac130202row5_col9,#T_e906b46a_7b3d_11eb_9cf4_0242ac130202row5_col15,#T_e906b46a_7b3d_11eb_9cf4_0242ac130202row5_col16,#T_e906b46a_7b3d_11eb_9cf4_0242ac130202row5_col17,#T_e906b46a_7b3d_11eb_9cf4_0242ac130202row5_col18,#T_e906b46a_7b3d_11eb_9cf4_0242ac130202row5_col19,#T_e906b46a_7b3d_11eb_9cf4_0242ac130202row6_col0,#T_e906b46a_7b3d_11eb_9cf4_0242ac130202row6_col1,#T_e906b46a_7b3d_11eb_9cf4_0242ac130202row6_col2,#T_e906b46a_7b3d_11eb_9cf4_0242ac130202row6_col3,#T_e906b46a_7b3d_11eb_9cf4_0242ac130202row6_col4,#T_e906b46a_7b3d_11eb_9cf4_0242ac130202row6_col5,#T_e906b46a_7b3d_11eb_9cf4_0242ac130202row6_col6,#T_e906b46a_7b3d_11eb_9cf4_0242ac130202row6_col7,#T_e906b46a_7b3d_11eb_9cf4_0242ac130202row6_col14,#T_e906b46a_7b3d_11eb_9cf4_0242ac130202row6_col15,#T_e906b46a_7b3d_11eb_9cf4_0242ac130202row6_col16,#T_e906b46a_7b3d_11eb_9cf4_0242ac130202row6_col17,#T_e906b46a_7b3d_11eb_9cf4_0242ac130202row6_col18,#T_e906b46a_7b3d_11eb_9cf4_0242ac130202row6_col19,#T_e906b46a_7b3d_11eb_9cf4_0242ac130202row7_col0,#T_e906b46a_7b3d_11eb_9cf4_0242ac130202row7_col1,#T_e906b46a_7b3d_11eb_9cf4_0242ac130202row7_col2,#T_e906b46a_7b3d_11eb_9cf4_0242ac130202row7_col3,#T_e906b46a_7b3d_11eb_9cf4_0242ac130202row7_col4,#T_e906b46a_7b3d_11eb_9cf4_0242ac130202row7_col5,#T_e906b46a_7b3d_11eb_9cf4_0242ac130202row7_col6,#T_e906b46a_7b3d_11eb_9cf4_0242ac130202row7_col12,#T_e906b46a_7b3d_11eb_9cf4_0242ac130202row7_col13,#T_e906b46a_7b3d_11eb_9cf4_0242ac130202row7_col14,#T_e906b46a_7b3d_11eb_9cf4_0242ac130202row7_col15,#T_e906b46a_7b3d_11eb_9cf4_0242ac130202row7_col16,#T_e906b46a_7b3d_11eb_9cf4_0242ac130202row7_col17,#T_e906b46a_7b3d_11eb_9cf4_0242ac130202row7_col18,#T_e906b46a_7b3d_11eb_9cf4_0242ac130202row7_col19,#T_e906b46a_7b3d_11eb_9cf4_0242ac130202row8_col0,#T_e906b46a_7b3d_11eb_9cf4_0242ac130202row8_col1,#T_e906b46a_7b3d_11eb_9cf4_0242ac130202row8_col2,#T_e906b46a_7b3d_11eb_9cf4_0242ac130202row8_col3,#T_e906b46a_7b3d_11eb_9cf4_0242ac130202row8_col4,#T_e906b46a_7b3d_11eb_9cf4_0242ac130202row8_col5,#T_e906b46a_7b3d_11eb_9cf4_0242ac130202row8_col11,#T_e906b46a_7b3d_11eb_9cf4_0242ac130202row8_col12,#T_e906b46a_7b3d_11eb_9cf4_0242ac130202row8_col13,#T_e906b46a_7b3d_11eb_9cf4_0242ac130202row8_col14,#T_e906b46a_7b3d_11eb_9cf4_0242ac130202row8_col15,#T_e906b46a_7b3d_11eb_9cf4_0242ac130202row8_col16,#T_e906b46a_7b3d_11eb_9cf4_0242ac130202row8_col17,#T_e906b46a_7b3d_11eb_9cf4_0242ac130202row8_col18,#T_e906b46a_7b3d_11eb_9cf4_0242ac130202row8_col19,#T_e906b46a_7b3d_11eb_9cf4_0242ac130202row9_col0,#T_e906b46a_7b3d_11eb_9cf4_0242ac130202row9_col1,#T_e906b46a_7b3d_11eb_9cf4_0242ac130202row9_col2,#T_e906b46a_7b3d_11eb_9cf4_0242ac130202row9_col3,#T_e906b46a_7b3d_11eb_9cf4_0242ac130202row9_col4,#T_e906b46a_7b3d_11eb_9cf4_0242ac130202row9_col10,#T_e906b46a_7b3d_11eb_9cf4_0242ac130202row9_col11,#T_e906b46a_7b3d_11eb_9cf4_0242ac130202row9_col12,#T_e906b46a_7b3d_11eb_9cf4_0242ac130202row9_col13,#T_e906b46a_7b3d_11eb_9cf4_0242ac130202row9_col14,#T_e906b46a_7b3d_11eb_9cf4_0242ac130202row9_col15,#T_e906b46a_7b3d_11eb_9cf4_0242ac130202row9_col16,#T_e906b46a_7b3d_11eb_9cf4_0242ac130202row9_col17,#T_e906b46a_7b3d_11eb_9cf4_0242ac130202row9_col18,#T_e906b46a_7b3d_11eb_9cf4_0242ac130202row9_col19,#T_e906b46a_7b3d_11eb_9cf4_0242ac130202row10_col0,#T_e906b46a_7b3d_11eb_9cf4_0242ac130202row10_col1,#T_e906b46a_7b3d_11eb_9cf4_0242ac130202row10_col2,#T_e906b46a_7b3d_11eb_9cf4_0242ac130202row10_col3,#T_e906b46a_7b3d_11eb_9cf4_0242ac130202row10_col4,#T_e906b46a_7b3d_11eb_9cf4_0242ac130202row10_col13,#T_e906b46a_7b3d_11eb_9cf4_0242ac130202row10_col14,#T_e906b46a_7b3d_11eb_9cf4_0242ac130202row10_col15,#T_e906b46a_7b3d_11eb_9cf4_0242ac130202row10_col16,#T_e906b46a_7b3d_11eb_9cf4_0242ac130202row10_col17,#T_e906b46a_7b3d_11eb_9cf4_0242ac130202row10_col18,#T_e906b46a_7b3d_11eb_9cf4_0242ac130202row10_col19,#T_e906b46a_7b3d_11eb_9cf4_0242ac130202row11_col0,#T_e906b46a_7b3d_11eb_9cf4_0242ac130202row11_col1,#T_e906b46a_7b3d_11eb_9cf4_0242ac130202row11_col2,#T_e906b46a_7b3d_11eb_9cf4_0242ac130202row11_col3,#T_e906b46a_7b3d_11eb_9cf4_0242ac130202row11_col4,#T_e906b46a_7b3d_11eb_9cf4_0242ac130202row11_col15,#T_e906b46a_7b3d_11eb_9cf4_0242ac130202row11_col16,#T_e906b46a_7b3d_11eb_9cf4_0242ac130202row11_col17,#T_e906b46a_7b3d_11eb_9cf4_0242ac130202row11_col18,#T_e906b46a_7b3d_11eb_9cf4_0242ac130202row11_col19,#T_e906b46a_7b3d_11eb_9cf4_0242ac130202row12_col0,#T_e906b46a_7b3d_11eb_9cf4_0242ac130202row12_col1,#T_e906b46a_7b3d_11eb_9cf4_0242ac130202row12_col2,#T_e906b46a_7b3d_11eb_9cf4_0242ac130202row12_col3,#T_e906b46a_7b3d_11eb_9cf4_0242ac130202row12_col4,#T_e906b46a_7b3d_11eb_9cf4_0242ac130202row12_col5,#T_e906b46a_7b3d_11eb_9cf4_0242ac130202row12_col16,#T_e906b46a_7b3d_11eb_9cf4_0242ac130202row12_col17,#T_e906b46a_7b3d_11eb_9cf4_0242ac130202row12_col18,#T_e906b46a_7b3d_11eb_9cf4_0242ac130202row12_col19,#T_e906b46a_7b3d_11eb_9cf4_0242ac130202row13_col0,#T_e906b46a_7b3d_11eb_9cf4_0242ac130202row13_col1,#T_e906b46a_7b3d_11eb_9cf4_0242ac130202row13_col2,#T_e906b46a_7b3d_11eb_9cf4_0242ac130202row13_col3,#T_e906b46a_7b3d_11eb_9cf4_0242ac130202row13_col4,#T_e906b46a_7b3d_11eb_9cf4_0242ac130202row13_col5,#T_e906b46a_7b3d_11eb_9cf4_0242ac130202row13_col6,#T_e906b46a_7b3d_11eb_9cf4_0242ac130202row13_col7,#T_e906b46a_7b3d_11eb_9cf4_0242ac130202row13_col8,#T_e906b46a_7b3d_11eb_9cf4_0242ac130202row13_col9,#T_e906b46a_7b3d_11eb_9cf4_0242ac130202row13_col10,#T_e906b46a_7b3d_11eb_9cf4_0242ac130202row13_col11,#T_e906b46a_7b3d_11eb_9cf4_0242ac130202row13_col12,#T_e906b46a_7b3d_11eb_9cf4_0242ac130202row13_col16,#T_e906b46a_7b3d_11eb_9cf4_0242ac130202row13_col17,#T_e906b46a_7b3d_11eb_9cf4_0242ac130202row13_col18,#T_e906b46a_7b3d_11eb_9cf4_0242ac130202row13_col19,#T_e906b46a_7b3d_11eb_9cf4_0242ac130202row14_col0,#T_e906b46a_7b3d_11eb_9cf4_0242ac130202row14_col1,#T_e906b46a_7b3d_11eb_9cf4_0242ac130202row14_col2,#T_e906b46a_7b3d_11eb_9cf4_0242ac130202row14_col3,#T_e906b46a_7b3d_11eb_9cf4_0242ac130202row14_col4,#T_e906b46a_7b3d_11eb_9cf4_0242ac130202row14_col5,#T_e906b46a_7b3d_11eb_9cf4_0242ac130202row14_col6,#T_e906b46a_7b3d_11eb_9cf4_0242ac130202row14_col7,#T_e906b46a_7b3d_11eb_9cf4_0242ac130202row14_col8,#T_e906b46a_7b3d_11eb_9cf4_0242ac130202row14_col9,#T_e906b46a_7b3d_11eb_9cf4_0242ac130202row14_col10,#T_e906b46a_7b3d_11eb_9cf4_0242ac130202row14_col11,#T_e906b46a_7b3d_11eb_9cf4_0242ac130202row14_col12,#T_e906b46a_7b3d_11eb_9cf4_0242ac130202row14_col16,#T_e906b46a_7b3d_11eb_9cf4_0242ac130202row14_col17,#T_e906b46a_7b3d_11eb_9cf4_0242ac130202row14_col18,#T_e906b46a_7b3d_11eb_9cf4_0242ac130202row14_col19,#T_e906b46a_7b3d_11eb_9cf4_0242ac130202row15_col0,#T_e906b46a_7b3d_11eb_9cf4_0242ac130202row15_col1,#T_e906b46a_7b3d_11eb_9cf4_0242ac130202row15_col2,#T_e906b46a_7b3d_11eb_9cf4_0242ac130202row15_col3,#T_e906b46a_7b3d_11eb_9cf4_0242ac130202row15_col4,#T_e906b46a_7b3d_11eb_9cf4_0242ac130202row15_col5,#T_e906b46a_7b3d_11eb_9cf4_0242ac130202row15_col6,#T_e906b46a_7b3d_11eb_9cf4_0242ac130202row15_col7,#T_e906b46a_7b3d_11eb_9cf4_0242ac130202row15_col8,#T_e906b46a_7b3d_11eb_9cf4_0242ac130202row15_col9,#T_e906b46a_7b3d_11eb_9cf4_0242ac130202row15_col10,#T_e906b46a_7b3d_11eb_9cf4_0242ac130202row15_col11,#T_e906b46a_7b3d_11eb_9cf4_0242ac130202row15_col16,#T_e906b46a_7b3d_11eb_9cf4_0242ac130202row15_col17,#T_e906b46a_7b3d_11eb_9cf4_0242ac130202row15_col18,#T_e906b46a_7b3d_11eb_9cf4_0242ac130202row15_col19,#T_e906b46a_7b3d_11eb_9cf4_0242ac130202row16_col0,#T_e906b46a_7b3d_11eb_9cf4_0242ac130202row16_col1,#T_e906b46a_7b3d_11eb_9cf4_0242ac130202row16_col2,#T_e906b46a_7b3d_11eb_9cf4_0242ac130202row16_col3,#T_e906b46a_7b3d_11eb_9cf4_0242ac130202row16_col4,#T_e906b46a_7b3d_11eb_9cf4_0242ac130202row16_col5,#T_e906b46a_7b3d_11eb_9cf4_0242ac130202row16_col6,#T_e906b46a_7b3d_11eb_9cf4_0242ac130202row16_col7,#T_e906b46a_7b3d_11eb_9cf4_0242ac130202row16_col8,#T_e906b46a_7b3d_11eb_9cf4_0242ac130202row16_col9,#T_e906b46a_7b3d_11eb_9cf4_0242ac130202row16_col10,#T_e906b46a_7b3d_11eb_9cf4_0242ac130202row16_col15,#T_e906b46a_7b3d_11eb_9cf4_0242ac130202row16_col16,#T_e906b46a_7b3d_11eb_9cf4_0242ac130202row16_col17,#T_e906b46a_7b3d_11eb_9cf4_0242ac130202row16_col18,#T_e906b46a_7b3d_11eb_9cf4_0242ac130202row16_col19,#T_e906b46a_7b3d_11eb_9cf4_0242ac130202row17_col0,#T_e906b46a_7b3d_11eb_9cf4_0242ac130202row17_col1,#T_e906b46a_7b3d_11eb_9cf4_0242ac130202row17_col2,#T_e906b46a_7b3d_11eb_9cf4_0242ac130202row17_col3,#T_e906b46a_7b3d_11eb_9cf4_0242ac130202row17_col4,#T_e906b46a_7b3d_11eb_9cf4_0242ac130202row17_col5,#T_e906b46a_7b3d_11eb_9cf4_0242ac130202row17_col6,#T_e906b46a_7b3d_11eb_9cf4_0242ac130202row17_col7,#T_e906b46a_7b3d_11eb_9cf4_0242ac130202row17_col8,#T_e906b46a_7b3d_11eb_9cf4_0242ac130202row17_col15,#T_e906b46a_7b3d_11eb_9cf4_0242ac130202row17_col16,#T_e906b46a_7b3d_11eb_9cf4_0242ac130202row17_col17,#T_e906b46a_7b3d_11eb_9cf4_0242ac130202row17_col18,#T_e906b46a_7b3d_11eb_9cf4_0242ac130202row17_col19,#T_e906b46a_7b3d_11eb_9cf4_0242ac130202row18_col0,#T_e906b46a_7b3d_11eb_9cf4_0242ac130202row18_col1,#T_e906b46a_7b3d_11eb_9cf4_0242ac130202row18_col2,#T_e906b46a_7b3d_11eb_9cf4_0242ac130202row18_col3,#T_e906b46a_7b3d_11eb_9cf4_0242ac130202row18_col4,#T_e906b46a_7b3d_11eb_9cf4_0242ac130202row18_col14,#T_e906b46a_7b3d_11eb_9cf4_0242ac130202row18_col15,#T_e906b46a_7b3d_11eb_9cf4_0242ac130202row18_col16,#T_e906b46a_7b3d_11eb_9cf4_0242ac130202row18_col17,#T_e906b46a_7b3d_11eb_9cf4_0242ac130202row18_col18,#T_e906b46a_7b3d_11eb_9cf4_0242ac130202row18_col19,#T_e906b46a_7b3d_11eb_9cf4_0242ac130202row19_col0,#T_e906b46a_7b3d_11eb_9cf4_0242ac130202row19_col1,#T_e906b46a_7b3d_11eb_9cf4_0242ac130202row19_col2,#T_e906b46a_7b3d_11eb_9cf4_0242ac130202row19_col11,#T_e906b46a_7b3d_11eb_9cf4_0242ac130202row19_col12,#T_e906b46a_7b3d_11eb_9cf4_0242ac130202row19_col13,#T_e906b46a_7b3d_11eb_9cf4_0242ac130202row19_col14,#T_e906b46a_7b3d_11eb_9cf4_0242ac130202row19_col15,#T_e906b46a_7b3d_11eb_9cf4_0242ac130202row19_col16,#T_e906b46a_7b3d_11eb_9cf4_0242ac130202row19_col17,#T_e906b46a_7b3d_11eb_9cf4_0242ac130202row19_col18,#T_e906b46a_7b3d_11eb_9cf4_0242ac130202row19_col19{\n",
       "            font-size:  6pt;\n",
       "            background-color:  #f7fbff;\n",
       "            color:  #000000;\n",
       "        }#T_e906b46a_7b3d_11eb_9cf4_0242ac130202row1_col4,#T_e906b46a_7b3d_11eb_9cf4_0242ac130202row17_col14{\n",
       "            font-size:  6pt;\n",
       "            background-color:  #ecf4fb;\n",
       "            color:  #000000;\n",
       "        }#T_e906b46a_7b3d_11eb_9cf4_0242ac130202row1_col5{\n",
       "            font-size:  6pt;\n",
       "            background-color:  #3b8bc2;\n",
       "            color:  #000000;\n",
       "        }#T_e906b46a_7b3d_11eb_9cf4_0242ac130202row1_col6{\n",
       "            font-size:  6pt;\n",
       "            background-color:  #084990;\n",
       "            color:  #f1f1f1;\n",
       "        }#T_e906b46a_7b3d_11eb_9cf4_0242ac130202row1_col7,#T_e906b46a_7b3d_11eb_9cf4_0242ac130202row1_col8,#T_e906b46a_7b3d_11eb_9cf4_0242ac130202row1_col9,#T_e906b46a_7b3d_11eb_9cf4_0242ac130202row1_col10,#T_e906b46a_7b3d_11eb_9cf4_0242ac130202row1_col11,#T_e906b46a_7b3d_11eb_9cf4_0242ac130202row1_col12,#T_e906b46a_7b3d_11eb_9cf4_0242ac130202row2_col13,#T_e906b46a_7b3d_11eb_9cf4_0242ac130202row3_col3,#T_e906b46a_7b3d_11eb_9cf4_0242ac130202row4_col13,#T_e906b46a_7b3d_11eb_9cf4_0242ac130202row10_col6,#T_e906b46a_7b3d_11eb_9cf4_0242ac130202row13_col14,#T_e906b46a_7b3d_11eb_9cf4_0242ac130202row13_col15,#T_e906b46a_7b3d_11eb_9cf4_0242ac130202row14_col14,#T_e906b46a_7b3d_11eb_9cf4_0242ac130202row16_col13,#T_e906b46a_7b3d_11eb_9cf4_0242ac130202row19_col4,#T_e906b46a_7b3d_11eb_9cf4_0242ac130202row19_col5,#T_e906b46a_7b3d_11eb_9cf4_0242ac130202row19_col6{\n",
       "            font-size:  6pt;\n",
       "            background-color:  #08306b;\n",
       "            color:  #f1f1f1;\n",
       "        }#T_e906b46a_7b3d_11eb_9cf4_0242ac130202row1_col13{\n",
       "            font-size:  6pt;\n",
       "            background-color:  #1b69af;\n",
       "            color:  #f1f1f1;\n",
       "        }#T_e906b46a_7b3d_11eb_9cf4_0242ac130202row1_col14{\n",
       "            font-size:  6pt;\n",
       "            background-color:  #c7dbef;\n",
       "            color:  #000000;\n",
       "        }#T_e906b46a_7b3d_11eb_9cf4_0242ac130202row2_col3{\n",
       "            font-size:  6pt;\n",
       "            background-color:  #2272b6;\n",
       "            color:  #f1f1f1;\n",
       "        }#T_e906b46a_7b3d_11eb_9cf4_0242ac130202row2_col4{\n",
       "            font-size:  6pt;\n",
       "            background-color:  #6aaed6;\n",
       "            color:  #000000;\n",
       "        }#T_e906b46a_7b3d_11eb_9cf4_0242ac130202row2_col5{\n",
       "            font-size:  6pt;\n",
       "            background-color:  #92c4de;\n",
       "            color:  #000000;\n",
       "        }#T_e906b46a_7b3d_11eb_9cf4_0242ac130202row2_col6{\n",
       "            font-size:  6pt;\n",
       "            background-color:  #2e7ebc;\n",
       "            color:  #000000;\n",
       "        }#T_e906b46a_7b3d_11eb_9cf4_0242ac130202row2_col7,#T_e906b46a_7b3d_11eb_9cf4_0242ac130202row2_col10{\n",
       "            font-size:  6pt;\n",
       "            background-color:  #2f7fbc;\n",
       "            color:  #000000;\n",
       "        }#T_e906b46a_7b3d_11eb_9cf4_0242ac130202row2_col8,#T_e906b46a_7b3d_11eb_9cf4_0242ac130202row6_col12{\n",
       "            font-size:  6pt;\n",
       "            background-color:  #4997c9;\n",
       "            color:  #000000;\n",
       "        }#T_e906b46a_7b3d_11eb_9cf4_0242ac130202row2_col9{\n",
       "            font-size:  6pt;\n",
       "            background-color:  #89bedc;\n",
       "            color:  #000000;\n",
       "        }#T_e906b46a_7b3d_11eb_9cf4_0242ac130202row2_col11{\n",
       "            font-size:  6pt;\n",
       "            background-color:  #3080bd;\n",
       "            color:  #000000;\n",
       "        }#T_e906b46a_7b3d_11eb_9cf4_0242ac130202row2_col12{\n",
       "            font-size:  6pt;\n",
       "            background-color:  #1561a9;\n",
       "            color:  #f1f1f1;\n",
       "        }#T_e906b46a_7b3d_11eb_9cf4_0242ac130202row2_col14{\n",
       "            font-size:  6pt;\n",
       "            background-color:  #125ea6;\n",
       "            color:  #f1f1f1;\n",
       "        }#T_e906b46a_7b3d_11eb_9cf4_0242ac130202row2_col15{\n",
       "            font-size:  6pt;\n",
       "            background-color:  #e6f0f9;\n",
       "            color:  #000000;\n",
       "        }#T_e906b46a_7b3d_11eb_9cf4_0242ac130202row3_col12{\n",
       "            font-size:  6pt;\n",
       "            background-color:  #caddf0;\n",
       "            color:  #000000;\n",
       "        }#T_e906b46a_7b3d_11eb_9cf4_0242ac130202row3_col13,#T_e906b46a_7b3d_11eb_9cf4_0242ac130202row6_col11,#T_e906b46a_7b3d_11eb_9cf4_0242ac130202row9_col6,#T_e906b46a_7b3d_11eb_9cf4_0242ac130202row18_col9{\n",
       "            font-size:  6pt;\n",
       "            background-color:  #083471;\n",
       "            color:  #f1f1f1;\n",
       "        }#T_e906b46a_7b3d_11eb_9cf4_0242ac130202row3_col14{\n",
       "            font-size:  6pt;\n",
       "            background-color:  #084e98;\n",
       "            color:  #f1f1f1;\n",
       "        }#T_e906b46a_7b3d_11eb_9cf4_0242ac130202row3_col15{\n",
       "            font-size:  6pt;\n",
       "            background-color:  #d8e7f5;\n",
       "            color:  #000000;\n",
       "        }#T_e906b46a_7b3d_11eb_9cf4_0242ac130202row4_col11{\n",
       "            font-size:  6pt;\n",
       "            background-color:  #95c5df;\n",
       "            color:  #000000;\n",
       "        }#T_e906b46a_7b3d_11eb_9cf4_0242ac130202row4_col12{\n",
       "            font-size:  6pt;\n",
       "            background-color:  #08468b;\n",
       "            color:  #f1f1f1;\n",
       "        }#T_e906b46a_7b3d_11eb_9cf4_0242ac130202row4_col14{\n",
       "            font-size:  6pt;\n",
       "            background-color:  #3585bf;\n",
       "            color:  #000000;\n",
       "        }#T_e906b46a_7b3d_11eb_9cf4_0242ac130202row5_col10,#T_e906b46a_7b3d_11eb_9cf4_0242ac130202row12_col15{\n",
       "            font-size:  6pt;\n",
       "            background-color:  #cfe1f2;\n",
       "            color:  #000000;\n",
       "        }#T_e906b46a_7b3d_11eb_9cf4_0242ac130202row5_col11{\n",
       "            font-size:  6pt;\n",
       "            background-color:  #08488e;\n",
       "            color:  #f1f1f1;\n",
       "        }#T_e906b46a_7b3d_11eb_9cf4_0242ac130202row5_col12,#T_e906b46a_7b3d_11eb_9cf4_0242ac130202row7_col9,#T_e906b46a_7b3d_11eb_9cf4_0242ac130202row8_col8,#T_e906b46a_7b3d_11eb_9cf4_0242ac130202row11_col8,#T_e906b46a_7b3d_11eb_9cf4_0242ac130202row11_col9,#T_e906b46a_7b3d_11eb_9cf4_0242ac130202row11_col11,#T_e906b46a_7b3d_11eb_9cf4_0242ac130202row17_col12{\n",
       "            font-size:  6pt;\n",
       "            background-color:  #08326e;\n",
       "            color:  #f1f1f1;\n",
       "        }#T_e906b46a_7b3d_11eb_9cf4_0242ac130202row5_col13{\n",
       "            font-size:  6pt;\n",
       "            background-color:  #1a68ae;\n",
       "            color:  #f1f1f1;\n",
       "        }#T_e906b46a_7b3d_11eb_9cf4_0242ac130202row5_col14{\n",
       "            font-size:  6pt;\n",
       "            background-color:  #e7f0fa;\n",
       "            color:  #000000;\n",
       "        }#T_e906b46a_7b3d_11eb_9cf4_0242ac130202row6_col8{\n",
       "            font-size:  6pt;\n",
       "            background-color:  #f5f9fe;\n",
       "            color:  #000000;\n",
       "        }#T_e906b46a_7b3d_11eb_9cf4_0242ac130202row6_col9,#T_e906b46a_7b3d_11eb_9cf4_0242ac130202row13_col13,#T_e906b46a_7b3d_11eb_9cf4_0242ac130202row14_col13{\n",
       "            font-size:  6pt;\n",
       "            background-color:  #60a7d2;\n",
       "            color:  #000000;\n",
       "        }#T_e906b46a_7b3d_11eb_9cf4_0242ac130202row6_col10{\n",
       "            font-size:  6pt;\n",
       "            background-color:  #083d7f;\n",
       "            color:  #f1f1f1;\n",
       "        }#T_e906b46a_7b3d_11eb_9cf4_0242ac130202row6_col13{\n",
       "            font-size:  6pt;\n",
       "            background-color:  #eaf2fb;\n",
       "            color:  #000000;\n",
       "        }#T_e906b46a_7b3d_11eb_9cf4_0242ac130202row7_col7{\n",
       "            font-size:  6pt;\n",
       "            background-color:  #d4e4f4;\n",
       "            color:  #000000;\n",
       "        }#T_e906b46a_7b3d_11eb_9cf4_0242ac130202row7_col8{\n",
       "            font-size:  6pt;\n",
       "            background-color:  #5ca4d0;\n",
       "            color:  #000000;\n",
       "        }#T_e906b46a_7b3d_11eb_9cf4_0242ac130202row7_col10{\n",
       "            font-size:  6pt;\n",
       "            background-color:  #0a549e;\n",
       "            color:  #f1f1f1;\n",
       "        }#T_e906b46a_7b3d_11eb_9cf4_0242ac130202row7_col11{\n",
       "            font-size:  6pt;\n",
       "            background-color:  #b9d6ea;\n",
       "            color:  #000000;\n",
       "        }#T_e906b46a_7b3d_11eb_9cf4_0242ac130202row8_col6{\n",
       "            font-size:  6pt;\n",
       "            background-color:  #c2d9ee;\n",
       "            color:  #000000;\n",
       "        }#T_e906b46a_7b3d_11eb_9cf4_0242ac130202row8_col7,#T_e906b46a_7b3d_11eb_9cf4_0242ac130202row12_col13{\n",
       "            font-size:  6pt;\n",
       "            background-color:  #083e81;\n",
       "            color:  #f1f1f1;\n",
       "        }#T_e906b46a_7b3d_11eb_9cf4_0242ac130202row8_col9{\n",
       "            font-size:  6pt;\n",
       "            background-color:  #549fcd;\n",
       "            color:  #000000;\n",
       "        }#T_e906b46a_7b3d_11eb_9cf4_0242ac130202row8_col10{\n",
       "            font-size:  6pt;\n",
       "            background-color:  #e0ecf8;\n",
       "            color:  #000000;\n",
       "        }#T_e906b46a_7b3d_11eb_9cf4_0242ac130202row9_col5{\n",
       "            font-size:  6pt;\n",
       "            background-color:  #d0e1f2;\n",
       "            color:  #000000;\n",
       "        }#T_e906b46a_7b3d_11eb_9cf4_0242ac130202row9_col7{\n",
       "            font-size:  6pt;\n",
       "            background-color:  #083979;\n",
       "            color:  #f1f1f1;\n",
       "        }#T_e906b46a_7b3d_11eb_9cf4_0242ac130202row9_col8{\n",
       "            font-size:  6pt;\n",
       "            background-color:  #c9ddf0;\n",
       "            color:  #000000;\n",
       "        }#T_e906b46a_7b3d_11eb_9cf4_0242ac130202row9_col9{\n",
       "            font-size:  6pt;\n",
       "            background-color:  #f3f8fe;\n",
       "            color:  #000000;\n",
       "        }#T_e906b46a_7b3d_11eb_9cf4_0242ac130202row10_col5,#T_e906b46a_7b3d_11eb_9cf4_0242ac130202row10_col9,#T_e906b46a_7b3d_11eb_9cf4_0242ac130202row10_col10,#T_e906b46a_7b3d_11eb_9cf4_0242ac130202row10_col11{\n",
       "            font-size:  6pt;\n",
       "            background-color:  #cddff1;\n",
       "            color:  #000000;\n",
       "        }#T_e906b46a_7b3d_11eb_9cf4_0242ac130202row10_col7,#T_e906b46a_7b3d_11eb_9cf4_0242ac130202row18_col8{\n",
       "            font-size:  6pt;\n",
       "            background-color:  #083674;\n",
       "            color:  #f1f1f1;\n",
       "        }#T_e906b46a_7b3d_11eb_9cf4_0242ac130202row10_col8{\n",
       "            font-size:  6pt;\n",
       "            background-color:  #a0cbe2;\n",
       "            color:  #000000;\n",
       "        }#T_e906b46a_7b3d_11eb_9cf4_0242ac130202row10_col12,#T_e906b46a_7b3d_11eb_9cf4_0242ac130202row15_col15{\n",
       "            font-size:  6pt;\n",
       "            background-color:  #dceaf6;\n",
       "            color:  #000000;\n",
       "        }#T_e906b46a_7b3d_11eb_9cf4_0242ac130202row11_col5{\n",
       "            font-size:  6pt;\n",
       "            background-color:  #eef5fc;\n",
       "            color:  #000000;\n",
       "        }#T_e906b46a_7b3d_11eb_9cf4_0242ac130202row11_col6{\n",
       "            font-size:  6pt;\n",
       "            background-color:  #3888c1;\n",
       "            color:  #000000;\n",
       "        }#T_e906b46a_7b3d_11eb_9cf4_0242ac130202row11_col7,#T_e906b46a_7b3d_11eb_9cf4_0242ac130202row11_col10{\n",
       "            font-size:  6pt;\n",
       "            background-color:  #08316d;\n",
       "            color:  #f1f1f1;\n",
       "        }#T_e906b46a_7b3d_11eb_9cf4_0242ac130202row11_col12{\n",
       "            font-size:  6pt;\n",
       "            background-color:  #08478d;\n",
       "            color:  #f1f1f1;\n",
       "        }#T_e906b46a_7b3d_11eb_9cf4_0242ac130202row11_col13{\n",
       "            font-size:  6pt;\n",
       "            background-color:  #2171b5;\n",
       "            color:  #f1f1f1;\n",
       "        }#T_e906b46a_7b3d_11eb_9cf4_0242ac130202row11_col14,#T_e906b46a_7b3d_11eb_9cf4_0242ac130202row19_col10{\n",
       "            font-size:  6pt;\n",
       "            background-color:  #bfd8ed;\n",
       "            color:  #000000;\n",
       "        }#T_e906b46a_7b3d_11eb_9cf4_0242ac130202row12_col6{\n",
       "            font-size:  6pt;\n",
       "            background-color:  #f2f8fd;\n",
       "            color:  #000000;\n",
       "        }#T_e906b46a_7b3d_11eb_9cf4_0242ac130202row12_col7{\n",
       "            font-size:  6pt;\n",
       "            background-color:  #eaf3fb;\n",
       "            color:  #000000;\n",
       "        }#T_e906b46a_7b3d_11eb_9cf4_0242ac130202row12_col8{\n",
       "            font-size:  6pt;\n",
       "            background-color:  #abd0e6;\n",
       "            color:  #000000;\n",
       "        }#T_e906b46a_7b3d_11eb_9cf4_0242ac130202row12_col9,#T_e906b46a_7b3d_11eb_9cf4_0242ac130202row12_col10,#T_e906b46a_7b3d_11eb_9cf4_0242ac130202row12_col11,#T_e906b46a_7b3d_11eb_9cf4_0242ac130202row12_col12{\n",
       "            font-size:  6pt;\n",
       "            background-color:  #71b1d7;\n",
       "            color:  #000000;\n",
       "        }#T_e906b46a_7b3d_11eb_9cf4_0242ac130202row12_col14{\n",
       "            font-size:  6pt;\n",
       "            background-color:  #08509b;\n",
       "            color:  #f1f1f1;\n",
       "        }#T_e906b46a_7b3d_11eb_9cf4_0242ac130202row14_col15{\n",
       "            font-size:  6pt;\n",
       "            background-color:  #2575b7;\n",
       "            color:  #000000;\n",
       "        }#T_e906b46a_7b3d_11eb_9cf4_0242ac130202row15_col12,#T_e906b46a_7b3d_11eb_9cf4_0242ac130202row18_col5{\n",
       "            font-size:  6pt;\n",
       "            background-color:  #e5eff9;\n",
       "            color:  #000000;\n",
       "        }#T_e906b46a_7b3d_11eb_9cf4_0242ac130202row15_col13{\n",
       "            font-size:  6pt;\n",
       "            background-color:  #083c7d;\n",
       "            color:  #f1f1f1;\n",
       "        }#T_e906b46a_7b3d_11eb_9cf4_0242ac130202row15_col14,#T_e906b46a_7b3d_11eb_9cf4_0242ac130202row18_col11{\n",
       "            font-size:  6pt;\n",
       "            background-color:  #0a539e;\n",
       "            color:  #f1f1f1;\n",
       "        }#T_e906b46a_7b3d_11eb_9cf4_0242ac130202row16_col11{\n",
       "            font-size:  6pt;\n",
       "            background-color:  #d5e5f4;\n",
       "            color:  #000000;\n",
       "        }#T_e906b46a_7b3d_11eb_9cf4_0242ac130202row16_col12{\n",
       "            font-size:  6pt;\n",
       "            background-color:  #0c56a0;\n",
       "            color:  #f1f1f1;\n",
       "        }#T_e906b46a_7b3d_11eb_9cf4_0242ac130202row16_col14{\n",
       "            font-size:  6pt;\n",
       "            background-color:  #4090c5;\n",
       "            color:  #000000;\n",
       "        }#T_e906b46a_7b3d_11eb_9cf4_0242ac130202row17_col9{\n",
       "            font-size:  6pt;\n",
       "            background-color:  #d9e8f5;\n",
       "            color:  #000000;\n",
       "        }#T_e906b46a_7b3d_11eb_9cf4_0242ac130202row17_col10{\n",
       "            font-size:  6pt;\n",
       "            background-color:  #4292c6;\n",
       "            color:  #000000;\n",
       "        }#T_e906b46a_7b3d_11eb_9cf4_0242ac130202row17_col11{\n",
       "            font-size:  6pt;\n",
       "            background-color:  #084184;\n",
       "            color:  #f1f1f1;\n",
       "        }#T_e906b46a_7b3d_11eb_9cf4_0242ac130202row17_col13{\n",
       "            font-size:  6pt;\n",
       "            background-color:  #2373b6;\n",
       "            color:  #f1f1f1;\n",
       "        }#T_e906b46a_7b3d_11eb_9cf4_0242ac130202row18_col6{\n",
       "            font-size:  6pt;\n",
       "            background-color:  #bed8ec;\n",
       "            color:  #000000;\n",
       "        }#T_e906b46a_7b3d_11eb_9cf4_0242ac130202row18_col7{\n",
       "            font-size:  6pt;\n",
       "            background-color:  #4f9bcb;\n",
       "            color:  #000000;\n",
       "        }#T_e906b46a_7b3d_11eb_9cf4_0242ac130202row18_col10{\n",
       "            font-size:  6pt;\n",
       "            background-color:  #083370;\n",
       "            color:  #f1f1f1;\n",
       "        }#T_e906b46a_7b3d_11eb_9cf4_0242ac130202row18_col12{\n",
       "            font-size:  6pt;\n",
       "            background-color:  #64a9d3;\n",
       "            color:  #000000;\n",
       "        }#T_e906b46a_7b3d_11eb_9cf4_0242ac130202row18_col13{\n",
       "            font-size:  6pt;\n",
       "            background-color:  #f2f7fd;\n",
       "            color:  #000000;\n",
       "        }#T_e906b46a_7b3d_11eb_9cf4_0242ac130202row19_col3{\n",
       "            font-size:  6pt;\n",
       "            background-color:  #6fb0d7;\n",
       "            color:  #000000;\n",
       "        }#T_e906b46a_7b3d_11eb_9cf4_0242ac130202row19_col7{\n",
       "            font-size:  6pt;\n",
       "            background-color:  #083573;\n",
       "            color:  #f1f1f1;\n",
       "        }#T_e906b46a_7b3d_11eb_9cf4_0242ac130202row19_col8{\n",
       "            font-size:  6pt;\n",
       "            background-color:  #2a7ab9;\n",
       "            color:  #000000;\n",
       "        }#T_e906b46a_7b3d_11eb_9cf4_0242ac130202row19_col9{\n",
       "            font-size:  6pt;\n",
       "            background-color:  #57a0ce;\n",
       "            color:  #000000;\n",
       "        }</style><table id=\"T_e906b46a_7b3d_11eb_9cf4_0242ac130202\" ><thead>    <tr>        <th class=\"blank level0\" ></th>        <th class=\"col_heading level0 col0\" >0</th>        <th class=\"col_heading level0 col1\" >1</th>        <th class=\"col_heading level0 col2\" >2</th>        <th class=\"col_heading level0 col3\" >3</th>        <th class=\"col_heading level0 col4\" >4</th>        <th class=\"col_heading level0 col5\" >5</th>        <th class=\"col_heading level0 col6\" >6</th>        <th class=\"col_heading level0 col7\" >7</th>        <th class=\"col_heading level0 col8\" >8</th>        <th class=\"col_heading level0 col9\" >9</th>        <th class=\"col_heading level0 col10\" >10</th>        <th class=\"col_heading level0 col11\" >11</th>        <th class=\"col_heading level0 col12\" >12</th>        <th class=\"col_heading level0 col13\" >13</th>        <th class=\"col_heading level0 col14\" >14</th>        <th class=\"col_heading level0 col15\" >15</th>        <th class=\"col_heading level0 col16\" >16</th>        <th class=\"col_heading level0 col17\" >17</th>        <th class=\"col_heading level0 col18\" >18</th>        <th class=\"col_heading level0 col19\" >19</th>    </tr></thead><tbody>\n",
       "                <tr>\n",
       "                        <th id=\"T_e906b46a_7b3d_11eb_9cf4_0242ac130202level0_row0\" class=\"row_heading level0 row0\" >0</th>\n",
       "                        <td id=\"T_e906b46a_7b3d_11eb_9cf4_0242ac130202row0_col0\" class=\"data row0 col0\" >0</td>\n",
       "                        <td id=\"T_e906b46a_7b3d_11eb_9cf4_0242ac130202row0_col1\" class=\"data row0 col1\" >0</td>\n",
       "                        <td id=\"T_e906b46a_7b3d_11eb_9cf4_0242ac130202row0_col2\" class=\"data row0 col2\" >0</td>\n",
       "                        <td id=\"T_e906b46a_7b3d_11eb_9cf4_0242ac130202row0_col3\" class=\"data row0 col3\" >0</td>\n",
       "                        <td id=\"T_e906b46a_7b3d_11eb_9cf4_0242ac130202row0_col4\" class=\"data row0 col4\" >0</td>\n",
       "                        <td id=\"T_e906b46a_7b3d_11eb_9cf4_0242ac130202row0_col5\" class=\"data row0 col5\" >0</td>\n",
       "                        <td id=\"T_e906b46a_7b3d_11eb_9cf4_0242ac130202row0_col6\" class=\"data row0 col6\" >0</td>\n",
       "                        <td id=\"T_e906b46a_7b3d_11eb_9cf4_0242ac130202row0_col7\" class=\"data row0 col7\" >0</td>\n",
       "                        <td id=\"T_e906b46a_7b3d_11eb_9cf4_0242ac130202row0_col8\" class=\"data row0 col8\" >0</td>\n",
       "                        <td id=\"T_e906b46a_7b3d_11eb_9cf4_0242ac130202row0_col9\" class=\"data row0 col9\" >0</td>\n",
       "                        <td id=\"T_e906b46a_7b3d_11eb_9cf4_0242ac130202row0_col10\" class=\"data row0 col10\" >0</td>\n",
       "                        <td id=\"T_e906b46a_7b3d_11eb_9cf4_0242ac130202row0_col11\" class=\"data row0 col11\" >0</td>\n",
       "                        <td id=\"T_e906b46a_7b3d_11eb_9cf4_0242ac130202row0_col12\" class=\"data row0 col12\" >0</td>\n",
       "                        <td id=\"T_e906b46a_7b3d_11eb_9cf4_0242ac130202row0_col13\" class=\"data row0 col13\" >0</td>\n",
       "                        <td id=\"T_e906b46a_7b3d_11eb_9cf4_0242ac130202row0_col14\" class=\"data row0 col14\" >0</td>\n",
       "                        <td id=\"T_e906b46a_7b3d_11eb_9cf4_0242ac130202row0_col15\" class=\"data row0 col15\" >0</td>\n",
       "                        <td id=\"T_e906b46a_7b3d_11eb_9cf4_0242ac130202row0_col16\" class=\"data row0 col16\" >0</td>\n",
       "                        <td id=\"T_e906b46a_7b3d_11eb_9cf4_0242ac130202row0_col17\" class=\"data row0 col17\" >0</td>\n",
       "                        <td id=\"T_e906b46a_7b3d_11eb_9cf4_0242ac130202row0_col18\" class=\"data row0 col18\" >0</td>\n",
       "                        <td id=\"T_e906b46a_7b3d_11eb_9cf4_0242ac130202row0_col19\" class=\"data row0 col19\" >0</td>\n",
       "            </tr>\n",
       "            <tr>\n",
       "                        <th id=\"T_e906b46a_7b3d_11eb_9cf4_0242ac130202level0_row1\" class=\"row_heading level0 row1\" >1</th>\n",
       "                        <td id=\"T_e906b46a_7b3d_11eb_9cf4_0242ac130202row1_col0\" class=\"data row1 col0\" >0</td>\n",
       "                        <td id=\"T_e906b46a_7b3d_11eb_9cf4_0242ac130202row1_col1\" class=\"data row1 col1\" >0</td>\n",
       "                        <td id=\"T_e906b46a_7b3d_11eb_9cf4_0242ac130202row1_col2\" class=\"data row1 col2\" >0</td>\n",
       "                        <td id=\"T_e906b46a_7b3d_11eb_9cf4_0242ac130202row1_col3\" class=\"data row1 col3\" >0</td>\n",
       "                        <td id=\"T_e906b46a_7b3d_11eb_9cf4_0242ac130202row1_col4\" class=\"data row1 col4\" >7</td>\n",
       "                        <td id=\"T_e906b46a_7b3d_11eb_9cf4_0242ac130202row1_col5\" class=\"data row1 col5\" >146</td>\n",
       "                        <td id=\"T_e906b46a_7b3d_11eb_9cf4_0242ac130202row1_col6\" class=\"data row1 col6\" >229</td>\n",
       "                        <td id=\"T_e906b46a_7b3d_11eb_9cf4_0242ac130202row1_col7\" class=\"data row1 col7\" >254</td>\n",
       "                        <td id=\"T_e906b46a_7b3d_11eb_9cf4_0242ac130202row1_col8\" class=\"data row1 col8\" >255</td>\n",
       "                        <td id=\"T_e906b46a_7b3d_11eb_9cf4_0242ac130202row1_col9\" class=\"data row1 col9\" >255</td>\n",
       "                        <td id=\"T_e906b46a_7b3d_11eb_9cf4_0242ac130202row1_col10\" class=\"data row1 col10\" >254</td>\n",
       "                        <td id=\"T_e906b46a_7b3d_11eb_9cf4_0242ac130202row1_col11\" class=\"data row1 col11\" >255</td>\n",
       "                        <td id=\"T_e906b46a_7b3d_11eb_9cf4_0242ac130202row1_col12\" class=\"data row1 col12\" >255</td>\n",
       "                        <td id=\"T_e906b46a_7b3d_11eb_9cf4_0242ac130202row1_col13\" class=\"data row1 col13\" >197</td>\n",
       "                        <td id=\"T_e906b46a_7b3d_11eb_9cf4_0242ac130202row1_col14\" class=\"data row1 col14\" >63</td>\n",
       "                        <td id=\"T_e906b46a_7b3d_11eb_9cf4_0242ac130202row1_col15\" class=\"data row1 col15\" >0</td>\n",
       "                        <td id=\"T_e906b46a_7b3d_11eb_9cf4_0242ac130202row1_col16\" class=\"data row1 col16\" >0</td>\n",
       "                        <td id=\"T_e906b46a_7b3d_11eb_9cf4_0242ac130202row1_col17\" class=\"data row1 col17\" >0</td>\n",
       "                        <td id=\"T_e906b46a_7b3d_11eb_9cf4_0242ac130202row1_col18\" class=\"data row1 col18\" >0</td>\n",
       "                        <td id=\"T_e906b46a_7b3d_11eb_9cf4_0242ac130202row1_col19\" class=\"data row1 col19\" >0</td>\n",
       "            </tr>\n",
       "            <tr>\n",
       "                        <th id=\"T_e906b46a_7b3d_11eb_9cf4_0242ac130202level0_row2\" class=\"row_heading level0 row2\" >2</th>\n",
       "                        <td id=\"T_e906b46a_7b3d_11eb_9cf4_0242ac130202row2_col0\" class=\"data row2 col0\" >0</td>\n",
       "                        <td id=\"T_e906b46a_7b3d_11eb_9cf4_0242ac130202row2_col1\" class=\"data row2 col1\" >0</td>\n",
       "                        <td id=\"T_e906b46a_7b3d_11eb_9cf4_0242ac130202row2_col2\" class=\"data row2 col2\" >0</td>\n",
       "                        <td id=\"T_e906b46a_7b3d_11eb_9cf4_0242ac130202row2_col3\" class=\"data row2 col3\" >35</td>\n",
       "                        <td id=\"T_e906b46a_7b3d_11eb_9cf4_0242ac130202row2_col4\" class=\"data row2 col4\" >61</td>\n",
       "                        <td id=\"T_e906b46a_7b3d_11eb_9cf4_0242ac130202row2_col5\" class=\"data row2 col5\" >91</td>\n",
       "                        <td id=\"T_e906b46a_7b3d_11eb_9cf4_0242ac130202row2_col6\" class=\"data row2 col6\" >177</td>\n",
       "                        <td id=\"T_e906b46a_7b3d_11eb_9cf4_0242ac130202row2_col7\" class=\"data row2 col7\" >177</td>\n",
       "                        <td id=\"T_e906b46a_7b3d_11eb_9cf4_0242ac130202row2_col8\" class=\"data row2 col8\" >154</td>\n",
       "                        <td id=\"T_e906b46a_7b3d_11eb_9cf4_0242ac130202row2_col9\" class=\"data row2 col9\" >109</td>\n",
       "                        <td id=\"T_e906b46a_7b3d_11eb_9cf4_0242ac130202row2_col10\" class=\"data row2 col10\" >177</td>\n",
       "                        <td id=\"T_e906b46a_7b3d_11eb_9cf4_0242ac130202row2_col11\" class=\"data row2 col11\" >177</td>\n",
       "                        <td id=\"T_e906b46a_7b3d_11eb_9cf4_0242ac130202row2_col12\" class=\"data row2 col12\" >207</td>\n",
       "                        <td id=\"T_e906b46a_7b3d_11eb_9cf4_0242ac130202row2_col13\" class=\"data row2 col13\" >253</td>\n",
       "                        <td id=\"T_e906b46a_7b3d_11eb_9cf4_0242ac130202row2_col14\" class=\"data row2 col14\" >208</td>\n",
       "                        <td id=\"T_e906b46a_7b3d_11eb_9cf4_0242ac130202row2_col15\" class=\"data row2 col15\" >13</td>\n",
       "                        <td id=\"T_e906b46a_7b3d_11eb_9cf4_0242ac130202row2_col16\" class=\"data row2 col16\" >0</td>\n",
       "                        <td id=\"T_e906b46a_7b3d_11eb_9cf4_0242ac130202row2_col17\" class=\"data row2 col17\" >0</td>\n",
       "                        <td id=\"T_e906b46a_7b3d_11eb_9cf4_0242ac130202row2_col18\" class=\"data row2 col18\" >0</td>\n",
       "                        <td id=\"T_e906b46a_7b3d_11eb_9cf4_0242ac130202row2_col19\" class=\"data row2 col19\" >0</td>\n",
       "            </tr>\n",
       "            <tr>\n",
       "                        <th id=\"T_e906b46a_7b3d_11eb_9cf4_0242ac130202level0_row3\" class=\"row_heading level0 row3\" >3</th>\n",
       "                        <td id=\"T_e906b46a_7b3d_11eb_9cf4_0242ac130202row3_col0\" class=\"data row3 col0\" >0</td>\n",
       "                        <td id=\"T_e906b46a_7b3d_11eb_9cf4_0242ac130202row3_col1\" class=\"data row3 col1\" >0</td>\n",
       "                        <td id=\"T_e906b46a_7b3d_11eb_9cf4_0242ac130202row3_col2\" class=\"data row3 col2\" >0</td>\n",
       "                        <td id=\"T_e906b46a_7b3d_11eb_9cf4_0242ac130202row3_col3\" class=\"data row3 col3\" >47</td>\n",
       "                        <td id=\"T_e906b46a_7b3d_11eb_9cf4_0242ac130202row3_col4\" class=\"data row3 col4\" >0</td>\n",
       "                        <td id=\"T_e906b46a_7b3d_11eb_9cf4_0242ac130202row3_col5\" class=\"data row3 col5\" >0</td>\n",
       "                        <td id=\"T_e906b46a_7b3d_11eb_9cf4_0242ac130202row3_col6\" class=\"data row3 col6\" >0</td>\n",
       "                        <td id=\"T_e906b46a_7b3d_11eb_9cf4_0242ac130202row3_col7\" class=\"data row3 col7\" >0</td>\n",
       "                        <td id=\"T_e906b46a_7b3d_11eb_9cf4_0242ac130202row3_col8\" class=\"data row3 col8\" >0</td>\n",
       "                        <td id=\"T_e906b46a_7b3d_11eb_9cf4_0242ac130202row3_col9\" class=\"data row3 col9\" >0</td>\n",
       "                        <td id=\"T_e906b46a_7b3d_11eb_9cf4_0242ac130202row3_col10\" class=\"data row3 col10\" >0</td>\n",
       "                        <td id=\"T_e906b46a_7b3d_11eb_9cf4_0242ac130202row3_col11\" class=\"data row3 col11\" >0</td>\n",
       "                        <td id=\"T_e906b46a_7b3d_11eb_9cf4_0242ac130202row3_col12\" class=\"data row3 col12\" >59</td>\n",
       "                        <td id=\"T_e906b46a_7b3d_11eb_9cf4_0242ac130202row3_col13\" class=\"data row3 col13\" >249</td>\n",
       "                        <td id=\"T_e906b46a_7b3d_11eb_9cf4_0242ac130202row3_col14\" class=\"data row3 col14\" >224</td>\n",
       "                        <td id=\"T_e906b46a_7b3d_11eb_9cf4_0242ac130202row3_col15\" class=\"data row3 col15\" >24</td>\n",
       "                        <td id=\"T_e906b46a_7b3d_11eb_9cf4_0242ac130202row3_col16\" class=\"data row3 col16\" >0</td>\n",
       "                        <td id=\"T_e906b46a_7b3d_11eb_9cf4_0242ac130202row3_col17\" class=\"data row3 col17\" >0</td>\n",
       "                        <td id=\"T_e906b46a_7b3d_11eb_9cf4_0242ac130202row3_col18\" class=\"data row3 col18\" >0</td>\n",
       "                        <td id=\"T_e906b46a_7b3d_11eb_9cf4_0242ac130202row3_col19\" class=\"data row3 col19\" >0</td>\n",
       "            </tr>\n",
       "            <tr>\n",
       "                        <th id=\"T_e906b46a_7b3d_11eb_9cf4_0242ac130202level0_row4\" class=\"row_heading level0 row4\" >4</th>\n",
       "                        <td id=\"T_e906b46a_7b3d_11eb_9cf4_0242ac130202row4_col0\" class=\"data row4 col0\" >0</td>\n",
       "                        <td id=\"T_e906b46a_7b3d_11eb_9cf4_0242ac130202row4_col1\" class=\"data row4 col1\" >0</td>\n",
       "                        <td id=\"T_e906b46a_7b3d_11eb_9cf4_0242ac130202row4_col2\" class=\"data row4 col2\" >0</td>\n",
       "                        <td id=\"T_e906b46a_7b3d_11eb_9cf4_0242ac130202row4_col3\" class=\"data row4 col3\" >0</td>\n",
       "                        <td id=\"T_e906b46a_7b3d_11eb_9cf4_0242ac130202row4_col4\" class=\"data row4 col4\" >0</td>\n",
       "                        <td id=\"T_e906b46a_7b3d_11eb_9cf4_0242ac130202row4_col5\" class=\"data row4 col5\" >0</td>\n",
       "                        <td id=\"T_e906b46a_7b3d_11eb_9cf4_0242ac130202row4_col6\" class=\"data row4 col6\" >0</td>\n",
       "                        <td id=\"T_e906b46a_7b3d_11eb_9cf4_0242ac130202row4_col7\" class=\"data row4 col7\" >0</td>\n",
       "                        <td id=\"T_e906b46a_7b3d_11eb_9cf4_0242ac130202row4_col8\" class=\"data row4 col8\" >0</td>\n",
       "                        <td id=\"T_e906b46a_7b3d_11eb_9cf4_0242ac130202row4_col9\" class=\"data row4 col9\" >0</td>\n",
       "                        <td id=\"T_e906b46a_7b3d_11eb_9cf4_0242ac130202row4_col10\" class=\"data row4 col10\" >0</td>\n",
       "                        <td id=\"T_e906b46a_7b3d_11eb_9cf4_0242ac130202row4_col11\" class=\"data row4 col11\" >101</td>\n",
       "                        <td id=\"T_e906b46a_7b3d_11eb_9cf4_0242ac130202row4_col12\" class=\"data row4 col12\" >234</td>\n",
       "                        <td id=\"T_e906b46a_7b3d_11eb_9cf4_0242ac130202row4_col13\" class=\"data row4 col13\" >253</td>\n",
       "                        <td id=\"T_e906b46a_7b3d_11eb_9cf4_0242ac130202row4_col14\" class=\"data row4 col14\" >170</td>\n",
       "                        <td id=\"T_e906b46a_7b3d_11eb_9cf4_0242ac130202row4_col15\" class=\"data row4 col15\" >0</td>\n",
       "                        <td id=\"T_e906b46a_7b3d_11eb_9cf4_0242ac130202row4_col16\" class=\"data row4 col16\" >0</td>\n",
       "                        <td id=\"T_e906b46a_7b3d_11eb_9cf4_0242ac130202row4_col17\" class=\"data row4 col17\" >0</td>\n",
       "                        <td id=\"T_e906b46a_7b3d_11eb_9cf4_0242ac130202row4_col18\" class=\"data row4 col18\" >0</td>\n",
       "                        <td id=\"T_e906b46a_7b3d_11eb_9cf4_0242ac130202row4_col19\" class=\"data row4 col19\" >0</td>\n",
       "            </tr>\n",
       "            <tr>\n",
       "                        <th id=\"T_e906b46a_7b3d_11eb_9cf4_0242ac130202level0_row5\" class=\"row_heading level0 row5\" >5</th>\n",
       "                        <td id=\"T_e906b46a_7b3d_11eb_9cf4_0242ac130202row5_col0\" class=\"data row5 col0\" >0</td>\n",
       "                        <td id=\"T_e906b46a_7b3d_11eb_9cf4_0242ac130202row5_col1\" class=\"data row5 col1\" >0</td>\n",
       "                        <td id=\"T_e906b46a_7b3d_11eb_9cf4_0242ac130202row5_col2\" class=\"data row5 col2\" >0</td>\n",
       "                        <td id=\"T_e906b46a_7b3d_11eb_9cf4_0242ac130202row5_col3\" class=\"data row5 col3\" >0</td>\n",
       "                        <td id=\"T_e906b46a_7b3d_11eb_9cf4_0242ac130202row5_col4\" class=\"data row5 col4\" >0</td>\n",
       "                        <td id=\"T_e906b46a_7b3d_11eb_9cf4_0242ac130202row5_col5\" class=\"data row5 col5\" >0</td>\n",
       "                        <td id=\"T_e906b46a_7b3d_11eb_9cf4_0242ac130202row5_col6\" class=\"data row5 col6\" >0</td>\n",
       "                        <td id=\"T_e906b46a_7b3d_11eb_9cf4_0242ac130202row5_col7\" class=\"data row5 col7\" >0</td>\n",
       "                        <td id=\"T_e906b46a_7b3d_11eb_9cf4_0242ac130202row5_col8\" class=\"data row5 col8\" >0</td>\n",
       "                        <td id=\"T_e906b46a_7b3d_11eb_9cf4_0242ac130202row5_col9\" class=\"data row5 col9\" >0</td>\n",
       "                        <td id=\"T_e906b46a_7b3d_11eb_9cf4_0242ac130202row5_col10\" class=\"data row5 col10\" >52</td>\n",
       "                        <td id=\"T_e906b46a_7b3d_11eb_9cf4_0242ac130202row5_col11\" class=\"data row5 col11\" >232</td>\n",
       "                        <td id=\"T_e906b46a_7b3d_11eb_9cf4_0242ac130202row5_col12\" class=\"data row5 col12\" >253</td>\n",
       "                        <td id=\"T_e906b46a_7b3d_11eb_9cf4_0242ac130202row5_col13\" class=\"data row5 col13\" >198</td>\n",
       "                        <td id=\"T_e906b46a_7b3d_11eb_9cf4_0242ac130202row5_col14\" class=\"data row5 col14\" >21</td>\n",
       "                        <td id=\"T_e906b46a_7b3d_11eb_9cf4_0242ac130202row5_col15\" class=\"data row5 col15\" >0</td>\n",
       "                        <td id=\"T_e906b46a_7b3d_11eb_9cf4_0242ac130202row5_col16\" class=\"data row5 col16\" >0</td>\n",
       "                        <td id=\"T_e906b46a_7b3d_11eb_9cf4_0242ac130202row5_col17\" class=\"data row5 col17\" >0</td>\n",
       "                        <td id=\"T_e906b46a_7b3d_11eb_9cf4_0242ac130202row5_col18\" class=\"data row5 col18\" >0</td>\n",
       "                        <td id=\"T_e906b46a_7b3d_11eb_9cf4_0242ac130202row5_col19\" class=\"data row5 col19\" >0</td>\n",
       "            </tr>\n",
       "            <tr>\n",
       "                        <th id=\"T_e906b46a_7b3d_11eb_9cf4_0242ac130202level0_row6\" class=\"row_heading level0 row6\" >6</th>\n",
       "                        <td id=\"T_e906b46a_7b3d_11eb_9cf4_0242ac130202row6_col0\" class=\"data row6 col0\" >0</td>\n",
       "                        <td id=\"T_e906b46a_7b3d_11eb_9cf4_0242ac130202row6_col1\" class=\"data row6 col1\" >0</td>\n",
       "                        <td id=\"T_e906b46a_7b3d_11eb_9cf4_0242ac130202row6_col2\" class=\"data row6 col2\" >0</td>\n",
       "                        <td id=\"T_e906b46a_7b3d_11eb_9cf4_0242ac130202row6_col3\" class=\"data row6 col3\" >0</td>\n",
       "                        <td id=\"T_e906b46a_7b3d_11eb_9cf4_0242ac130202row6_col4\" class=\"data row6 col4\" >0</td>\n",
       "                        <td id=\"T_e906b46a_7b3d_11eb_9cf4_0242ac130202row6_col5\" class=\"data row6 col5\" >0</td>\n",
       "                        <td id=\"T_e906b46a_7b3d_11eb_9cf4_0242ac130202row6_col6\" class=\"data row6 col6\" >0</td>\n",
       "                        <td id=\"T_e906b46a_7b3d_11eb_9cf4_0242ac130202row6_col7\" class=\"data row6 col7\" >0</td>\n",
       "                        <td id=\"T_e906b46a_7b3d_11eb_9cf4_0242ac130202row6_col8\" class=\"data row6 col8\" >3</td>\n",
       "                        <td id=\"T_e906b46a_7b3d_11eb_9cf4_0242ac130202row6_col9\" class=\"data row6 col9\" >136</td>\n",
       "                        <td id=\"T_e906b46a_7b3d_11eb_9cf4_0242ac130202row6_col10\" class=\"data row6 col10\" >241</td>\n",
       "                        <td id=\"T_e906b46a_7b3d_11eb_9cf4_0242ac130202row6_col11\" class=\"data row6 col11\" >251</td>\n",
       "                        <td id=\"T_e906b46a_7b3d_11eb_9cf4_0242ac130202row6_col12\" class=\"data row6 col12\" >154</td>\n",
       "                        <td id=\"T_e906b46a_7b3d_11eb_9cf4_0242ac130202row6_col13\" class=\"data row6 col13\" >17</td>\n",
       "                        <td id=\"T_e906b46a_7b3d_11eb_9cf4_0242ac130202row6_col14\" class=\"data row6 col14\" >0</td>\n",
       "                        <td id=\"T_e906b46a_7b3d_11eb_9cf4_0242ac130202row6_col15\" class=\"data row6 col15\" >0</td>\n",
       "                        <td id=\"T_e906b46a_7b3d_11eb_9cf4_0242ac130202row6_col16\" class=\"data row6 col16\" >0</td>\n",
       "                        <td id=\"T_e906b46a_7b3d_11eb_9cf4_0242ac130202row6_col17\" class=\"data row6 col17\" >0</td>\n",
       "                        <td id=\"T_e906b46a_7b3d_11eb_9cf4_0242ac130202row6_col18\" class=\"data row6 col18\" >0</td>\n",
       "                        <td id=\"T_e906b46a_7b3d_11eb_9cf4_0242ac130202row6_col19\" class=\"data row6 col19\" >0</td>\n",
       "            </tr>\n",
       "            <tr>\n",
       "                        <th id=\"T_e906b46a_7b3d_11eb_9cf4_0242ac130202level0_row7\" class=\"row_heading level0 row7\" >7</th>\n",
       "                        <td id=\"T_e906b46a_7b3d_11eb_9cf4_0242ac130202row7_col0\" class=\"data row7 col0\" >0</td>\n",
       "                        <td id=\"T_e906b46a_7b3d_11eb_9cf4_0242ac130202row7_col1\" class=\"data row7 col1\" >0</td>\n",
       "                        <td id=\"T_e906b46a_7b3d_11eb_9cf4_0242ac130202row7_col2\" class=\"data row7 col2\" >0</td>\n",
       "                        <td id=\"T_e906b46a_7b3d_11eb_9cf4_0242ac130202row7_col3\" class=\"data row7 col3\" >0</td>\n",
       "                        <td id=\"T_e906b46a_7b3d_11eb_9cf4_0242ac130202row7_col4\" class=\"data row7 col4\" >0</td>\n",
       "                        <td id=\"T_e906b46a_7b3d_11eb_9cf4_0242ac130202row7_col5\" class=\"data row7 col5\" >0</td>\n",
       "                        <td id=\"T_e906b46a_7b3d_11eb_9cf4_0242ac130202row7_col6\" class=\"data row7 col6\" >0</td>\n",
       "                        <td id=\"T_e906b46a_7b3d_11eb_9cf4_0242ac130202row7_col7\" class=\"data row7 col7\" >45</td>\n",
       "                        <td id=\"T_e906b46a_7b3d_11eb_9cf4_0242ac130202row7_col8\" class=\"data row7 col8\" >139</td>\n",
       "                        <td id=\"T_e906b46a_7b3d_11eb_9cf4_0242ac130202row7_col9\" class=\"data row7 col9\" >253</td>\n",
       "                        <td id=\"T_e906b46a_7b3d_11eb_9cf4_0242ac130202row7_col10\" class=\"data row7 col10\" >219</td>\n",
       "                        <td id=\"T_e906b46a_7b3d_11eb_9cf4_0242ac130202row7_col11\" class=\"data row7 col11\" >74</td>\n",
       "                        <td id=\"T_e906b46a_7b3d_11eb_9cf4_0242ac130202row7_col12\" class=\"data row7 col12\" >0</td>\n",
       "                        <td id=\"T_e906b46a_7b3d_11eb_9cf4_0242ac130202row7_col13\" class=\"data row7 col13\" >0</td>\n",
       "                        <td id=\"T_e906b46a_7b3d_11eb_9cf4_0242ac130202row7_col14\" class=\"data row7 col14\" >0</td>\n",
       "                        <td id=\"T_e906b46a_7b3d_11eb_9cf4_0242ac130202row7_col15\" class=\"data row7 col15\" >0</td>\n",
       "                        <td id=\"T_e906b46a_7b3d_11eb_9cf4_0242ac130202row7_col16\" class=\"data row7 col16\" >0</td>\n",
       "                        <td id=\"T_e906b46a_7b3d_11eb_9cf4_0242ac130202row7_col17\" class=\"data row7 col17\" >0</td>\n",
       "                        <td id=\"T_e906b46a_7b3d_11eb_9cf4_0242ac130202row7_col18\" class=\"data row7 col18\" >0</td>\n",
       "                        <td id=\"T_e906b46a_7b3d_11eb_9cf4_0242ac130202row7_col19\" class=\"data row7 col19\" >0</td>\n",
       "            </tr>\n",
       "            <tr>\n",
       "                        <th id=\"T_e906b46a_7b3d_11eb_9cf4_0242ac130202level0_row8\" class=\"row_heading level0 row8\" >8</th>\n",
       "                        <td id=\"T_e906b46a_7b3d_11eb_9cf4_0242ac130202row8_col0\" class=\"data row8 col0\" >0</td>\n",
       "                        <td id=\"T_e906b46a_7b3d_11eb_9cf4_0242ac130202row8_col1\" class=\"data row8 col1\" >0</td>\n",
       "                        <td id=\"T_e906b46a_7b3d_11eb_9cf4_0242ac130202row8_col2\" class=\"data row8 col2\" >0</td>\n",
       "                        <td id=\"T_e906b46a_7b3d_11eb_9cf4_0242ac130202row8_col3\" class=\"data row8 col3\" >0</td>\n",
       "                        <td id=\"T_e906b46a_7b3d_11eb_9cf4_0242ac130202row8_col4\" class=\"data row8 col4\" >0</td>\n",
       "                        <td id=\"T_e906b46a_7b3d_11eb_9cf4_0242ac130202row8_col5\" class=\"data row8 col5\" >0</td>\n",
       "                        <td id=\"T_e906b46a_7b3d_11eb_9cf4_0242ac130202row8_col6\" class=\"data row8 col6\" >67</td>\n",
       "                        <td id=\"T_e906b46a_7b3d_11eb_9cf4_0242ac130202row8_col7\" class=\"data row8 col7\" >240</td>\n",
       "                        <td id=\"T_e906b46a_7b3d_11eb_9cf4_0242ac130202row8_col8\" class=\"data row8 col8\" >253</td>\n",
       "                        <td id=\"T_e906b46a_7b3d_11eb_9cf4_0242ac130202row8_col9\" class=\"data row8 col9\" >145</td>\n",
       "                        <td id=\"T_e906b46a_7b3d_11eb_9cf4_0242ac130202row8_col10\" class=\"data row8 col10\" >29</td>\n",
       "                        <td id=\"T_e906b46a_7b3d_11eb_9cf4_0242ac130202row8_col11\" class=\"data row8 col11\" >0</td>\n",
       "                        <td id=\"T_e906b46a_7b3d_11eb_9cf4_0242ac130202row8_col12\" class=\"data row8 col12\" >0</td>\n",
       "                        <td id=\"T_e906b46a_7b3d_11eb_9cf4_0242ac130202row8_col13\" class=\"data row8 col13\" >0</td>\n",
       "                        <td id=\"T_e906b46a_7b3d_11eb_9cf4_0242ac130202row8_col14\" class=\"data row8 col14\" >0</td>\n",
       "                        <td id=\"T_e906b46a_7b3d_11eb_9cf4_0242ac130202row8_col15\" class=\"data row8 col15\" >0</td>\n",
       "                        <td id=\"T_e906b46a_7b3d_11eb_9cf4_0242ac130202row8_col16\" class=\"data row8 col16\" >0</td>\n",
       "                        <td id=\"T_e906b46a_7b3d_11eb_9cf4_0242ac130202row8_col17\" class=\"data row8 col17\" >0</td>\n",
       "                        <td id=\"T_e906b46a_7b3d_11eb_9cf4_0242ac130202row8_col18\" class=\"data row8 col18\" >0</td>\n",
       "                        <td id=\"T_e906b46a_7b3d_11eb_9cf4_0242ac130202row8_col19\" class=\"data row8 col19\" >0</td>\n",
       "            </tr>\n",
       "            <tr>\n",
       "                        <th id=\"T_e906b46a_7b3d_11eb_9cf4_0242ac130202level0_row9\" class=\"row_heading level0 row9\" >9</th>\n",
       "                        <td id=\"T_e906b46a_7b3d_11eb_9cf4_0242ac130202row9_col0\" class=\"data row9 col0\" >0</td>\n",
       "                        <td id=\"T_e906b46a_7b3d_11eb_9cf4_0242ac130202row9_col1\" class=\"data row9 col1\" >0</td>\n",
       "                        <td id=\"T_e906b46a_7b3d_11eb_9cf4_0242ac130202row9_col2\" class=\"data row9 col2\" >0</td>\n",
       "                        <td id=\"T_e906b46a_7b3d_11eb_9cf4_0242ac130202row9_col3\" class=\"data row9 col3\" >0</td>\n",
       "                        <td id=\"T_e906b46a_7b3d_11eb_9cf4_0242ac130202row9_col4\" class=\"data row9 col4\" >0</td>\n",
       "                        <td id=\"T_e906b46a_7b3d_11eb_9cf4_0242ac130202row9_col5\" class=\"data row9 col5\" >45</td>\n",
       "                        <td id=\"T_e906b46a_7b3d_11eb_9cf4_0242ac130202row9_col6\" class=\"data row9 col6\" >249</td>\n",
       "                        <td id=\"T_e906b46a_7b3d_11eb_9cf4_0242ac130202row9_col7\" class=\"data row9 col7\" >245</td>\n",
       "                        <td id=\"T_e906b46a_7b3d_11eb_9cf4_0242ac130202row9_col8\" class=\"data row9 col8\" >60</td>\n",
       "                        <td id=\"T_e906b46a_7b3d_11eb_9cf4_0242ac130202row9_col9\" class=\"data row9 col9\" >5</td>\n",
       "                        <td id=\"T_e906b46a_7b3d_11eb_9cf4_0242ac130202row9_col10\" class=\"data row9 col10\" >0</td>\n",
       "                        <td id=\"T_e906b46a_7b3d_11eb_9cf4_0242ac130202row9_col11\" class=\"data row9 col11\" >0</td>\n",
       "                        <td id=\"T_e906b46a_7b3d_11eb_9cf4_0242ac130202row9_col12\" class=\"data row9 col12\" >0</td>\n",
       "                        <td id=\"T_e906b46a_7b3d_11eb_9cf4_0242ac130202row9_col13\" class=\"data row9 col13\" >0</td>\n",
       "                        <td id=\"T_e906b46a_7b3d_11eb_9cf4_0242ac130202row9_col14\" class=\"data row9 col14\" >0</td>\n",
       "                        <td id=\"T_e906b46a_7b3d_11eb_9cf4_0242ac130202row9_col15\" class=\"data row9 col15\" >0</td>\n",
       "                        <td id=\"T_e906b46a_7b3d_11eb_9cf4_0242ac130202row9_col16\" class=\"data row9 col16\" >0</td>\n",
       "                        <td id=\"T_e906b46a_7b3d_11eb_9cf4_0242ac130202row9_col17\" class=\"data row9 col17\" >0</td>\n",
       "                        <td id=\"T_e906b46a_7b3d_11eb_9cf4_0242ac130202row9_col18\" class=\"data row9 col18\" >0</td>\n",
       "                        <td id=\"T_e906b46a_7b3d_11eb_9cf4_0242ac130202row9_col19\" class=\"data row9 col19\" >0</td>\n",
       "            </tr>\n",
       "            <tr>\n",
       "                        <th id=\"T_e906b46a_7b3d_11eb_9cf4_0242ac130202level0_row10\" class=\"row_heading level0 row10\" >10</th>\n",
       "                        <td id=\"T_e906b46a_7b3d_11eb_9cf4_0242ac130202row10_col0\" class=\"data row10 col0\" >0</td>\n",
       "                        <td id=\"T_e906b46a_7b3d_11eb_9cf4_0242ac130202row10_col1\" class=\"data row10 col1\" >0</td>\n",
       "                        <td id=\"T_e906b46a_7b3d_11eb_9cf4_0242ac130202row10_col2\" class=\"data row10 col2\" >0</td>\n",
       "                        <td id=\"T_e906b46a_7b3d_11eb_9cf4_0242ac130202row10_col3\" class=\"data row10 col3\" >0</td>\n",
       "                        <td id=\"T_e906b46a_7b3d_11eb_9cf4_0242ac130202row10_col4\" class=\"data row10 col4\" >0</td>\n",
       "                        <td id=\"T_e906b46a_7b3d_11eb_9cf4_0242ac130202row10_col5\" class=\"data row10 col5\" >49</td>\n",
       "                        <td id=\"T_e906b46a_7b3d_11eb_9cf4_0242ac130202row10_col6\" class=\"data row10 col6\" >253</td>\n",
       "                        <td id=\"T_e906b46a_7b3d_11eb_9cf4_0242ac130202row10_col7\" class=\"data row10 col7\" >248</td>\n",
       "                        <td id=\"T_e906b46a_7b3d_11eb_9cf4_0242ac130202row10_col8\" class=\"data row10 col8\" >94</td>\n",
       "                        <td id=\"T_e906b46a_7b3d_11eb_9cf4_0242ac130202row10_col9\" class=\"data row10 col9\" >55</td>\n",
       "                        <td id=\"T_e906b46a_7b3d_11eb_9cf4_0242ac130202row10_col10\" class=\"data row10 col10\" >55</td>\n",
       "                        <td id=\"T_e906b46a_7b3d_11eb_9cf4_0242ac130202row10_col11\" class=\"data row10 col11\" >55</td>\n",
       "                        <td id=\"T_e906b46a_7b3d_11eb_9cf4_0242ac130202row10_col12\" class=\"data row10 col12\" >34</td>\n",
       "                        <td id=\"T_e906b46a_7b3d_11eb_9cf4_0242ac130202row10_col13\" class=\"data row10 col13\" >0</td>\n",
       "                        <td id=\"T_e906b46a_7b3d_11eb_9cf4_0242ac130202row10_col14\" class=\"data row10 col14\" >0</td>\n",
       "                        <td id=\"T_e906b46a_7b3d_11eb_9cf4_0242ac130202row10_col15\" class=\"data row10 col15\" >0</td>\n",
       "                        <td id=\"T_e906b46a_7b3d_11eb_9cf4_0242ac130202row10_col16\" class=\"data row10 col16\" >0</td>\n",
       "                        <td id=\"T_e906b46a_7b3d_11eb_9cf4_0242ac130202row10_col17\" class=\"data row10 col17\" >0</td>\n",
       "                        <td id=\"T_e906b46a_7b3d_11eb_9cf4_0242ac130202row10_col18\" class=\"data row10 col18\" >0</td>\n",
       "                        <td id=\"T_e906b46a_7b3d_11eb_9cf4_0242ac130202row10_col19\" class=\"data row10 col19\" >0</td>\n",
       "            </tr>\n",
       "            <tr>\n",
       "                        <th id=\"T_e906b46a_7b3d_11eb_9cf4_0242ac130202level0_row11\" class=\"row_heading level0 row11\" >11</th>\n",
       "                        <td id=\"T_e906b46a_7b3d_11eb_9cf4_0242ac130202row11_col0\" class=\"data row11 col0\" >0</td>\n",
       "                        <td id=\"T_e906b46a_7b3d_11eb_9cf4_0242ac130202row11_col1\" class=\"data row11 col1\" >0</td>\n",
       "                        <td id=\"T_e906b46a_7b3d_11eb_9cf4_0242ac130202row11_col2\" class=\"data row11 col2\" >0</td>\n",
       "                        <td id=\"T_e906b46a_7b3d_11eb_9cf4_0242ac130202row11_col3\" class=\"data row11 col3\" >0</td>\n",
       "                        <td id=\"T_e906b46a_7b3d_11eb_9cf4_0242ac130202row11_col4\" class=\"data row11 col4\" >0</td>\n",
       "                        <td id=\"T_e906b46a_7b3d_11eb_9cf4_0242ac130202row11_col5\" class=\"data row11 col5\" >11</td>\n",
       "                        <td id=\"T_e906b46a_7b3d_11eb_9cf4_0242ac130202row11_col6\" class=\"data row11 col6\" >168</td>\n",
       "                        <td id=\"T_e906b46a_7b3d_11eb_9cf4_0242ac130202row11_col7\" class=\"data row11 col7\" >253</td>\n",
       "                        <td id=\"T_e906b46a_7b3d_11eb_9cf4_0242ac130202row11_col8\" class=\"data row11 col8\" >253</td>\n",
       "                        <td id=\"T_e906b46a_7b3d_11eb_9cf4_0242ac130202row11_col9\" class=\"data row11 col9\" >253</td>\n",
       "                        <td id=\"T_e906b46a_7b3d_11eb_9cf4_0242ac130202row11_col10\" class=\"data row11 col10\" >253</td>\n",
       "                        <td id=\"T_e906b46a_7b3d_11eb_9cf4_0242ac130202row11_col11\" class=\"data row11 col11\" >253</td>\n",
       "                        <td id=\"T_e906b46a_7b3d_11eb_9cf4_0242ac130202row11_col12\" class=\"data row11 col12\" >233</td>\n",
       "                        <td id=\"T_e906b46a_7b3d_11eb_9cf4_0242ac130202row11_col13\" class=\"data row11 col13\" >189</td>\n",
       "                        <td id=\"T_e906b46a_7b3d_11eb_9cf4_0242ac130202row11_col14\" class=\"data row11 col14\" >69</td>\n",
       "                        <td id=\"T_e906b46a_7b3d_11eb_9cf4_0242ac130202row11_col15\" class=\"data row11 col15\" >0</td>\n",
       "                        <td id=\"T_e906b46a_7b3d_11eb_9cf4_0242ac130202row11_col16\" class=\"data row11 col16\" >0</td>\n",
       "                        <td id=\"T_e906b46a_7b3d_11eb_9cf4_0242ac130202row11_col17\" class=\"data row11 col17\" >0</td>\n",
       "                        <td id=\"T_e906b46a_7b3d_11eb_9cf4_0242ac130202row11_col18\" class=\"data row11 col18\" >0</td>\n",
       "                        <td id=\"T_e906b46a_7b3d_11eb_9cf4_0242ac130202row11_col19\" class=\"data row11 col19\" >0</td>\n",
       "            </tr>\n",
       "            <tr>\n",
       "                        <th id=\"T_e906b46a_7b3d_11eb_9cf4_0242ac130202level0_row12\" class=\"row_heading level0 row12\" >12</th>\n",
       "                        <td id=\"T_e906b46a_7b3d_11eb_9cf4_0242ac130202row12_col0\" class=\"data row12 col0\" >0</td>\n",
       "                        <td id=\"T_e906b46a_7b3d_11eb_9cf4_0242ac130202row12_col1\" class=\"data row12 col1\" >0</td>\n",
       "                        <td id=\"T_e906b46a_7b3d_11eb_9cf4_0242ac130202row12_col2\" class=\"data row12 col2\" >0</td>\n",
       "                        <td id=\"T_e906b46a_7b3d_11eb_9cf4_0242ac130202row12_col3\" class=\"data row12 col3\" >0</td>\n",
       "                        <td id=\"T_e906b46a_7b3d_11eb_9cf4_0242ac130202row12_col4\" class=\"data row12 col4\" >0</td>\n",
       "                        <td id=\"T_e906b46a_7b3d_11eb_9cf4_0242ac130202row12_col5\" class=\"data row12 col5\" >0</td>\n",
       "                        <td id=\"T_e906b46a_7b3d_11eb_9cf4_0242ac130202row12_col6\" class=\"data row12 col6\" >6</td>\n",
       "                        <td id=\"T_e906b46a_7b3d_11eb_9cf4_0242ac130202row12_col7\" class=\"data row12 col7\" >16</td>\n",
       "                        <td id=\"T_e906b46a_7b3d_11eb_9cf4_0242ac130202row12_col8\" class=\"data row12 col8\" >85</td>\n",
       "                        <td id=\"T_e906b46a_7b3d_11eb_9cf4_0242ac130202row12_col9\" class=\"data row12 col9\" >124</td>\n",
       "                        <td id=\"T_e906b46a_7b3d_11eb_9cf4_0242ac130202row12_col10\" class=\"data row12 col10\" >124</td>\n",
       "                        <td id=\"T_e906b46a_7b3d_11eb_9cf4_0242ac130202row12_col11\" class=\"data row12 col11\" >124</td>\n",
       "                        <td id=\"T_e906b46a_7b3d_11eb_9cf4_0242ac130202row12_col12\" class=\"data row12 col12\" >124</td>\n",
       "                        <td id=\"T_e906b46a_7b3d_11eb_9cf4_0242ac130202row12_col13\" class=\"data row12 col13\" >239</td>\n",
       "                        <td id=\"T_e906b46a_7b3d_11eb_9cf4_0242ac130202row12_col14\" class=\"data row12 col14\" >222</td>\n",
       "                        <td id=\"T_e906b46a_7b3d_11eb_9cf4_0242ac130202row12_col15\" class=\"data row12 col15\" >31</td>\n",
       "                        <td id=\"T_e906b46a_7b3d_11eb_9cf4_0242ac130202row12_col16\" class=\"data row12 col16\" >0</td>\n",
       "                        <td id=\"T_e906b46a_7b3d_11eb_9cf4_0242ac130202row12_col17\" class=\"data row12 col17\" >0</td>\n",
       "                        <td id=\"T_e906b46a_7b3d_11eb_9cf4_0242ac130202row12_col18\" class=\"data row12 col18\" >0</td>\n",
       "                        <td id=\"T_e906b46a_7b3d_11eb_9cf4_0242ac130202row12_col19\" class=\"data row12 col19\" >0</td>\n",
       "            </tr>\n",
       "            <tr>\n",
       "                        <th id=\"T_e906b46a_7b3d_11eb_9cf4_0242ac130202level0_row13\" class=\"row_heading level0 row13\" >13</th>\n",
       "                        <td id=\"T_e906b46a_7b3d_11eb_9cf4_0242ac130202row13_col0\" class=\"data row13 col0\" >0</td>\n",
       "                        <td id=\"T_e906b46a_7b3d_11eb_9cf4_0242ac130202row13_col1\" class=\"data row13 col1\" >0</td>\n",
       "                        <td id=\"T_e906b46a_7b3d_11eb_9cf4_0242ac130202row13_col2\" class=\"data row13 col2\" >0</td>\n",
       "                        <td id=\"T_e906b46a_7b3d_11eb_9cf4_0242ac130202row13_col3\" class=\"data row13 col3\" >0</td>\n",
       "                        <td id=\"T_e906b46a_7b3d_11eb_9cf4_0242ac130202row13_col4\" class=\"data row13 col4\" >0</td>\n",
       "                        <td id=\"T_e906b46a_7b3d_11eb_9cf4_0242ac130202row13_col5\" class=\"data row13 col5\" >0</td>\n",
       "                        <td id=\"T_e906b46a_7b3d_11eb_9cf4_0242ac130202row13_col6\" class=\"data row13 col6\" >0</td>\n",
       "                        <td id=\"T_e906b46a_7b3d_11eb_9cf4_0242ac130202row13_col7\" class=\"data row13 col7\" >0</td>\n",
       "                        <td id=\"T_e906b46a_7b3d_11eb_9cf4_0242ac130202row13_col8\" class=\"data row13 col8\" >0</td>\n",
       "                        <td id=\"T_e906b46a_7b3d_11eb_9cf4_0242ac130202row13_col9\" class=\"data row13 col9\" >0</td>\n",
       "                        <td id=\"T_e906b46a_7b3d_11eb_9cf4_0242ac130202row13_col10\" class=\"data row13 col10\" >0</td>\n",
       "                        <td id=\"T_e906b46a_7b3d_11eb_9cf4_0242ac130202row13_col11\" class=\"data row13 col11\" >0</td>\n",
       "                        <td id=\"T_e906b46a_7b3d_11eb_9cf4_0242ac130202row13_col12\" class=\"data row13 col12\" >0</td>\n",
       "                        <td id=\"T_e906b46a_7b3d_11eb_9cf4_0242ac130202row13_col13\" class=\"data row13 col13\" >135</td>\n",
       "                        <td id=\"T_e906b46a_7b3d_11eb_9cf4_0242ac130202row13_col14\" class=\"data row13 col14\" >253</td>\n",
       "                        <td id=\"T_e906b46a_7b3d_11eb_9cf4_0242ac130202row13_col15\" class=\"data row13 col15\" >150</td>\n",
       "                        <td id=\"T_e906b46a_7b3d_11eb_9cf4_0242ac130202row13_col16\" class=\"data row13 col16\" >0</td>\n",
       "                        <td id=\"T_e906b46a_7b3d_11eb_9cf4_0242ac130202row13_col17\" class=\"data row13 col17\" >0</td>\n",
       "                        <td id=\"T_e906b46a_7b3d_11eb_9cf4_0242ac130202row13_col18\" class=\"data row13 col18\" >0</td>\n",
       "                        <td id=\"T_e906b46a_7b3d_11eb_9cf4_0242ac130202row13_col19\" class=\"data row13 col19\" >0</td>\n",
       "            </tr>\n",
       "            <tr>\n",
       "                        <th id=\"T_e906b46a_7b3d_11eb_9cf4_0242ac130202level0_row14\" class=\"row_heading level0 row14\" >14</th>\n",
       "                        <td id=\"T_e906b46a_7b3d_11eb_9cf4_0242ac130202row14_col0\" class=\"data row14 col0\" >0</td>\n",
       "                        <td id=\"T_e906b46a_7b3d_11eb_9cf4_0242ac130202row14_col1\" class=\"data row14 col1\" >0</td>\n",
       "                        <td id=\"T_e906b46a_7b3d_11eb_9cf4_0242ac130202row14_col2\" class=\"data row14 col2\" >0</td>\n",
       "                        <td id=\"T_e906b46a_7b3d_11eb_9cf4_0242ac130202row14_col3\" class=\"data row14 col3\" >0</td>\n",
       "                        <td id=\"T_e906b46a_7b3d_11eb_9cf4_0242ac130202row14_col4\" class=\"data row14 col4\" >0</td>\n",
       "                        <td id=\"T_e906b46a_7b3d_11eb_9cf4_0242ac130202row14_col5\" class=\"data row14 col5\" >0</td>\n",
       "                        <td id=\"T_e906b46a_7b3d_11eb_9cf4_0242ac130202row14_col6\" class=\"data row14 col6\" >0</td>\n",
       "                        <td id=\"T_e906b46a_7b3d_11eb_9cf4_0242ac130202row14_col7\" class=\"data row14 col7\" >0</td>\n",
       "                        <td id=\"T_e906b46a_7b3d_11eb_9cf4_0242ac130202row14_col8\" class=\"data row14 col8\" >0</td>\n",
       "                        <td id=\"T_e906b46a_7b3d_11eb_9cf4_0242ac130202row14_col9\" class=\"data row14 col9\" >0</td>\n",
       "                        <td id=\"T_e906b46a_7b3d_11eb_9cf4_0242ac130202row14_col10\" class=\"data row14 col10\" >0</td>\n",
       "                        <td id=\"T_e906b46a_7b3d_11eb_9cf4_0242ac130202row14_col11\" class=\"data row14 col11\" >0</td>\n",
       "                        <td id=\"T_e906b46a_7b3d_11eb_9cf4_0242ac130202row14_col12\" class=\"data row14 col12\" >0</td>\n",
       "                        <td id=\"T_e906b46a_7b3d_11eb_9cf4_0242ac130202row14_col13\" class=\"data row14 col13\" >135</td>\n",
       "                        <td id=\"T_e906b46a_7b3d_11eb_9cf4_0242ac130202row14_col14\" class=\"data row14 col14\" >253</td>\n",
       "                        <td id=\"T_e906b46a_7b3d_11eb_9cf4_0242ac130202row14_col15\" class=\"data row14 col15\" >110</td>\n",
       "                        <td id=\"T_e906b46a_7b3d_11eb_9cf4_0242ac130202row14_col16\" class=\"data row14 col16\" >0</td>\n",
       "                        <td id=\"T_e906b46a_7b3d_11eb_9cf4_0242ac130202row14_col17\" class=\"data row14 col17\" >0</td>\n",
       "                        <td id=\"T_e906b46a_7b3d_11eb_9cf4_0242ac130202row14_col18\" class=\"data row14 col18\" >0</td>\n",
       "                        <td id=\"T_e906b46a_7b3d_11eb_9cf4_0242ac130202row14_col19\" class=\"data row14 col19\" >0</td>\n",
       "            </tr>\n",
       "            <tr>\n",
       "                        <th id=\"T_e906b46a_7b3d_11eb_9cf4_0242ac130202level0_row15\" class=\"row_heading level0 row15\" >15</th>\n",
       "                        <td id=\"T_e906b46a_7b3d_11eb_9cf4_0242ac130202row15_col0\" class=\"data row15 col0\" >0</td>\n",
       "                        <td id=\"T_e906b46a_7b3d_11eb_9cf4_0242ac130202row15_col1\" class=\"data row15 col1\" >0</td>\n",
       "                        <td id=\"T_e906b46a_7b3d_11eb_9cf4_0242ac130202row15_col2\" class=\"data row15 col2\" >0</td>\n",
       "                        <td id=\"T_e906b46a_7b3d_11eb_9cf4_0242ac130202row15_col3\" class=\"data row15 col3\" >0</td>\n",
       "                        <td id=\"T_e906b46a_7b3d_11eb_9cf4_0242ac130202row15_col4\" class=\"data row15 col4\" >0</td>\n",
       "                        <td id=\"T_e906b46a_7b3d_11eb_9cf4_0242ac130202row15_col5\" class=\"data row15 col5\" >0</td>\n",
       "                        <td id=\"T_e906b46a_7b3d_11eb_9cf4_0242ac130202row15_col6\" class=\"data row15 col6\" >0</td>\n",
       "                        <td id=\"T_e906b46a_7b3d_11eb_9cf4_0242ac130202row15_col7\" class=\"data row15 col7\" >0</td>\n",
       "                        <td id=\"T_e906b46a_7b3d_11eb_9cf4_0242ac130202row15_col8\" class=\"data row15 col8\" >0</td>\n",
       "                        <td id=\"T_e906b46a_7b3d_11eb_9cf4_0242ac130202row15_col9\" class=\"data row15 col9\" >0</td>\n",
       "                        <td id=\"T_e906b46a_7b3d_11eb_9cf4_0242ac130202row15_col10\" class=\"data row15 col10\" >0</td>\n",
       "                        <td id=\"T_e906b46a_7b3d_11eb_9cf4_0242ac130202row15_col11\" class=\"data row15 col11\" >0</td>\n",
       "                        <td id=\"T_e906b46a_7b3d_11eb_9cf4_0242ac130202row15_col12\" class=\"data row15 col12\" >23</td>\n",
       "                        <td id=\"T_e906b46a_7b3d_11eb_9cf4_0242ac130202row15_col13\" class=\"data row15 col13\" >241</td>\n",
       "                        <td id=\"T_e906b46a_7b3d_11eb_9cf4_0242ac130202row15_col14\" class=\"data row15 col14\" >219</td>\n",
       "                        <td id=\"T_e906b46a_7b3d_11eb_9cf4_0242ac130202row15_col15\" class=\"data row15 col15\" >20</td>\n",
       "                        <td id=\"T_e906b46a_7b3d_11eb_9cf4_0242ac130202row15_col16\" class=\"data row15 col16\" >0</td>\n",
       "                        <td id=\"T_e906b46a_7b3d_11eb_9cf4_0242ac130202row15_col17\" class=\"data row15 col17\" >0</td>\n",
       "                        <td id=\"T_e906b46a_7b3d_11eb_9cf4_0242ac130202row15_col18\" class=\"data row15 col18\" >0</td>\n",
       "                        <td id=\"T_e906b46a_7b3d_11eb_9cf4_0242ac130202row15_col19\" class=\"data row15 col19\" >0</td>\n",
       "            </tr>\n",
       "            <tr>\n",
       "                        <th id=\"T_e906b46a_7b3d_11eb_9cf4_0242ac130202level0_row16\" class=\"row_heading level0 row16\" >16</th>\n",
       "                        <td id=\"T_e906b46a_7b3d_11eb_9cf4_0242ac130202row16_col0\" class=\"data row16 col0\" >0</td>\n",
       "                        <td id=\"T_e906b46a_7b3d_11eb_9cf4_0242ac130202row16_col1\" class=\"data row16 col1\" >0</td>\n",
       "                        <td id=\"T_e906b46a_7b3d_11eb_9cf4_0242ac130202row16_col2\" class=\"data row16 col2\" >0</td>\n",
       "                        <td id=\"T_e906b46a_7b3d_11eb_9cf4_0242ac130202row16_col3\" class=\"data row16 col3\" >0</td>\n",
       "                        <td id=\"T_e906b46a_7b3d_11eb_9cf4_0242ac130202row16_col4\" class=\"data row16 col4\" >0</td>\n",
       "                        <td id=\"T_e906b46a_7b3d_11eb_9cf4_0242ac130202row16_col5\" class=\"data row16 col5\" >0</td>\n",
       "                        <td id=\"T_e906b46a_7b3d_11eb_9cf4_0242ac130202row16_col6\" class=\"data row16 col6\" >0</td>\n",
       "                        <td id=\"T_e906b46a_7b3d_11eb_9cf4_0242ac130202row16_col7\" class=\"data row16 col7\" >0</td>\n",
       "                        <td id=\"T_e906b46a_7b3d_11eb_9cf4_0242ac130202row16_col8\" class=\"data row16 col8\" >0</td>\n",
       "                        <td id=\"T_e906b46a_7b3d_11eb_9cf4_0242ac130202row16_col9\" class=\"data row16 col9\" >0</td>\n",
       "                        <td id=\"T_e906b46a_7b3d_11eb_9cf4_0242ac130202row16_col10\" class=\"data row16 col10\" >0</td>\n",
       "                        <td id=\"T_e906b46a_7b3d_11eb_9cf4_0242ac130202row16_col11\" class=\"data row16 col11\" >44</td>\n",
       "                        <td id=\"T_e906b46a_7b3d_11eb_9cf4_0242ac130202row16_col12\" class=\"data row16 col12\" >218</td>\n",
       "                        <td id=\"T_e906b46a_7b3d_11eb_9cf4_0242ac130202row16_col13\" class=\"data row16 col13\" >253</td>\n",
       "                        <td id=\"T_e906b46a_7b3d_11eb_9cf4_0242ac130202row16_col14\" class=\"data row16 col14\" >160</td>\n",
       "                        <td id=\"T_e906b46a_7b3d_11eb_9cf4_0242ac130202row16_col15\" class=\"data row16 col15\" >0</td>\n",
       "                        <td id=\"T_e906b46a_7b3d_11eb_9cf4_0242ac130202row16_col16\" class=\"data row16 col16\" >0</td>\n",
       "                        <td id=\"T_e906b46a_7b3d_11eb_9cf4_0242ac130202row16_col17\" class=\"data row16 col17\" >0</td>\n",
       "                        <td id=\"T_e906b46a_7b3d_11eb_9cf4_0242ac130202row16_col18\" class=\"data row16 col18\" >0</td>\n",
       "                        <td id=\"T_e906b46a_7b3d_11eb_9cf4_0242ac130202row16_col19\" class=\"data row16 col19\" >0</td>\n",
       "            </tr>\n",
       "            <tr>\n",
       "                        <th id=\"T_e906b46a_7b3d_11eb_9cf4_0242ac130202level0_row17\" class=\"row_heading level0 row17\" >17</th>\n",
       "                        <td id=\"T_e906b46a_7b3d_11eb_9cf4_0242ac130202row17_col0\" class=\"data row17 col0\" >0</td>\n",
       "                        <td id=\"T_e906b46a_7b3d_11eb_9cf4_0242ac130202row17_col1\" class=\"data row17 col1\" >0</td>\n",
       "                        <td id=\"T_e906b46a_7b3d_11eb_9cf4_0242ac130202row17_col2\" class=\"data row17 col2\" >0</td>\n",
       "                        <td id=\"T_e906b46a_7b3d_11eb_9cf4_0242ac130202row17_col3\" class=\"data row17 col3\" >0</td>\n",
       "                        <td id=\"T_e906b46a_7b3d_11eb_9cf4_0242ac130202row17_col4\" class=\"data row17 col4\" >0</td>\n",
       "                        <td id=\"T_e906b46a_7b3d_11eb_9cf4_0242ac130202row17_col5\" class=\"data row17 col5\" >0</td>\n",
       "                        <td id=\"T_e906b46a_7b3d_11eb_9cf4_0242ac130202row17_col6\" class=\"data row17 col6\" >0</td>\n",
       "                        <td id=\"T_e906b46a_7b3d_11eb_9cf4_0242ac130202row17_col7\" class=\"data row17 col7\" >0</td>\n",
       "                        <td id=\"T_e906b46a_7b3d_11eb_9cf4_0242ac130202row17_col8\" class=\"data row17 col8\" >0</td>\n",
       "                        <td id=\"T_e906b46a_7b3d_11eb_9cf4_0242ac130202row17_col9\" class=\"data row17 col9\" >38</td>\n",
       "                        <td id=\"T_e906b46a_7b3d_11eb_9cf4_0242ac130202row17_col10\" class=\"data row17 col10\" >158</td>\n",
       "                        <td id=\"T_e906b46a_7b3d_11eb_9cf4_0242ac130202row17_col11\" class=\"data row17 col11\" >239</td>\n",
       "                        <td id=\"T_e906b46a_7b3d_11eb_9cf4_0242ac130202row17_col12\" class=\"data row17 col12\" >253</td>\n",
       "                        <td id=\"T_e906b46a_7b3d_11eb_9cf4_0242ac130202row17_col13\" class=\"data row17 col13\" >187</td>\n",
       "                        <td id=\"T_e906b46a_7b3d_11eb_9cf4_0242ac130202row17_col14\" class=\"data row17 col14\" >14</td>\n",
       "                        <td id=\"T_e906b46a_7b3d_11eb_9cf4_0242ac130202row17_col15\" class=\"data row17 col15\" >0</td>\n",
       "                        <td id=\"T_e906b46a_7b3d_11eb_9cf4_0242ac130202row17_col16\" class=\"data row17 col16\" >0</td>\n",
       "                        <td id=\"T_e906b46a_7b3d_11eb_9cf4_0242ac130202row17_col17\" class=\"data row17 col17\" >0</td>\n",
       "                        <td id=\"T_e906b46a_7b3d_11eb_9cf4_0242ac130202row17_col18\" class=\"data row17 col18\" >0</td>\n",
       "                        <td id=\"T_e906b46a_7b3d_11eb_9cf4_0242ac130202row17_col19\" class=\"data row17 col19\" >0</td>\n",
       "            </tr>\n",
       "            <tr>\n",
       "                        <th id=\"T_e906b46a_7b3d_11eb_9cf4_0242ac130202level0_row18\" class=\"row_heading level0 row18\" >18</th>\n",
       "                        <td id=\"T_e906b46a_7b3d_11eb_9cf4_0242ac130202row18_col0\" class=\"data row18 col0\" >0</td>\n",
       "                        <td id=\"T_e906b46a_7b3d_11eb_9cf4_0242ac130202row18_col1\" class=\"data row18 col1\" >0</td>\n",
       "                        <td id=\"T_e906b46a_7b3d_11eb_9cf4_0242ac130202row18_col2\" class=\"data row18 col2\" >0</td>\n",
       "                        <td id=\"T_e906b46a_7b3d_11eb_9cf4_0242ac130202row18_col3\" class=\"data row18 col3\" >0</td>\n",
       "                        <td id=\"T_e906b46a_7b3d_11eb_9cf4_0242ac130202row18_col4\" class=\"data row18 col4\" >0</td>\n",
       "                        <td id=\"T_e906b46a_7b3d_11eb_9cf4_0242ac130202row18_col5\" class=\"data row18 col5\" >21</td>\n",
       "                        <td id=\"T_e906b46a_7b3d_11eb_9cf4_0242ac130202row18_col6\" class=\"data row18 col6\" >70</td>\n",
       "                        <td id=\"T_e906b46a_7b3d_11eb_9cf4_0242ac130202row18_col7\" class=\"data row18 col7\" >148</td>\n",
       "                        <td id=\"T_e906b46a_7b3d_11eb_9cf4_0242ac130202row18_col8\" class=\"data row18 col8\" >249</td>\n",
       "                        <td id=\"T_e906b46a_7b3d_11eb_9cf4_0242ac130202row18_col9\" class=\"data row18 col9\" >251</td>\n",
       "                        <td id=\"T_e906b46a_7b3d_11eb_9cf4_0242ac130202row18_col10\" class=\"data row18 col10\" >251</td>\n",
       "                        <td id=\"T_e906b46a_7b3d_11eb_9cf4_0242ac130202row18_col11\" class=\"data row18 col11\" >221</td>\n",
       "                        <td id=\"T_e906b46a_7b3d_11eb_9cf4_0242ac130202row18_col12\" class=\"data row18 col12\" >133</td>\n",
       "                        <td id=\"T_e906b46a_7b3d_11eb_9cf4_0242ac130202row18_col13\" class=\"data row18 col13\" >7</td>\n",
       "                        <td id=\"T_e906b46a_7b3d_11eb_9cf4_0242ac130202row18_col14\" class=\"data row18 col14\" >0</td>\n",
       "                        <td id=\"T_e906b46a_7b3d_11eb_9cf4_0242ac130202row18_col15\" class=\"data row18 col15\" >0</td>\n",
       "                        <td id=\"T_e906b46a_7b3d_11eb_9cf4_0242ac130202row18_col16\" class=\"data row18 col16\" >0</td>\n",
       "                        <td id=\"T_e906b46a_7b3d_11eb_9cf4_0242ac130202row18_col17\" class=\"data row18 col17\" >0</td>\n",
       "                        <td id=\"T_e906b46a_7b3d_11eb_9cf4_0242ac130202row18_col18\" class=\"data row18 col18\" >0</td>\n",
       "                        <td id=\"T_e906b46a_7b3d_11eb_9cf4_0242ac130202row18_col19\" class=\"data row18 col19\" >0</td>\n",
       "            </tr>\n",
       "            <tr>\n",
       "                        <th id=\"T_e906b46a_7b3d_11eb_9cf4_0242ac130202level0_row19\" class=\"row_heading level0 row19\" >19</th>\n",
       "                        <td id=\"T_e906b46a_7b3d_11eb_9cf4_0242ac130202row19_col0\" class=\"data row19 col0\" >0</td>\n",
       "                        <td id=\"T_e906b46a_7b3d_11eb_9cf4_0242ac130202row19_col1\" class=\"data row19 col1\" >0</td>\n",
       "                        <td id=\"T_e906b46a_7b3d_11eb_9cf4_0242ac130202row19_col2\" class=\"data row19 col2\" >0</td>\n",
       "                        <td id=\"T_e906b46a_7b3d_11eb_9cf4_0242ac130202row19_col3\" class=\"data row19 col3\" >23</td>\n",
       "                        <td id=\"T_e906b46a_7b3d_11eb_9cf4_0242ac130202row19_col4\" class=\"data row19 col4\" >122</td>\n",
       "                        <td id=\"T_e906b46a_7b3d_11eb_9cf4_0242ac130202row19_col5\" class=\"data row19 col5\" >225</td>\n",
       "                        <td id=\"T_e906b46a_7b3d_11eb_9cf4_0242ac130202row19_col6\" class=\"data row19 col6\" >253</td>\n",
       "                        <td id=\"T_e906b46a_7b3d_11eb_9cf4_0242ac130202row19_col7\" class=\"data row19 col7\" >249</td>\n",
       "                        <td id=\"T_e906b46a_7b3d_11eb_9cf4_0242ac130202row19_col8\" class=\"data row19 col8\" >183</td>\n",
       "                        <td id=\"T_e906b46a_7b3d_11eb_9cf4_0242ac130202row19_col9\" class=\"data row19 col9\" >143</td>\n",
       "                        <td id=\"T_e906b46a_7b3d_11eb_9cf4_0242ac130202row19_col10\" class=\"data row19 col10\" >69</td>\n",
       "                        <td id=\"T_e906b46a_7b3d_11eb_9cf4_0242ac130202row19_col11\" class=\"data row19 col11\" >0</td>\n",
       "                        <td id=\"T_e906b46a_7b3d_11eb_9cf4_0242ac130202row19_col12\" class=\"data row19 col12\" >0</td>\n",
       "                        <td id=\"T_e906b46a_7b3d_11eb_9cf4_0242ac130202row19_col13\" class=\"data row19 col13\" >0</td>\n",
       "                        <td id=\"T_e906b46a_7b3d_11eb_9cf4_0242ac130202row19_col14\" class=\"data row19 col14\" >0</td>\n",
       "                        <td id=\"T_e906b46a_7b3d_11eb_9cf4_0242ac130202row19_col15\" class=\"data row19 col15\" >0</td>\n",
       "                        <td id=\"T_e906b46a_7b3d_11eb_9cf4_0242ac130202row19_col16\" class=\"data row19 col16\" >0</td>\n",
       "                        <td id=\"T_e906b46a_7b3d_11eb_9cf4_0242ac130202row19_col17\" class=\"data row19 col17\" >0</td>\n",
       "                        <td id=\"T_e906b46a_7b3d_11eb_9cf4_0242ac130202row19_col18\" class=\"data row19 col18\" >0</td>\n",
       "                        <td id=\"T_e906b46a_7b3d_11eb_9cf4_0242ac130202row19_col19\" class=\"data row19 col19\" >0</td>\n",
       "            </tr>\n",
       "    </tbody></table>"
      ],
      "text/plain": [
       "<pandas.io.formats.style.Styler at 0x7f3e05aacc90>"
      ]
     },
     "execution_count": 8,
     "metadata": {},
     "output_type": "execute_result"
    }
   ],
   "source": [
    "df=pd.DataFrame(tensorof3[4:24,4:24])\n",
    "df.style.set_properties(**{'font-size':'6pt'}).background_gradient('Blues')"
   ]
  },
  {
   "cell_type": "markdown",
   "metadata": {
    "papermill": {
     "duration": 0.038263,
     "end_time": "2021-03-02T09:59:00.052171",
     "exception": false,
     "start_time": "2021-03-02T09:59:00.013908",
     "status": "completed"
    },
    "tags": []
   },
   "source": [
    "In the above section I have taken a part of the 3's matrix in a dataframe and styled it with pandas inbuilt styling. This darkens the portion of the 3's matrix which have pixels other than 0.\n",
    "\n",
    "See, how the shape of '3' become more evident with this.\n",
    "\n",
    "Follow this [link](https://pandas.pydata.org/pandas-docs/stable/user_guide/style.html) to learn more about the styling in Pandas.\n",
    "\n",
    "Similar to what we did in previous section, we can also do for the images of '7' and convert those into tensors."
   ]
  },
  {
   "cell_type": "code",
   "execution_count": 9,
   "metadata": {
    "execution": {
     "iopub.execute_input": "2021-03-02T09:59:00.138166Z",
     "iopub.status.busy": "2021-03-02T09:59:00.137289Z",
     "iopub.status.idle": "2021-03-02T09:59:00.168306Z",
     "shell.execute_reply": "2021-03-02T09:59:00.167593Z"
    },
    "papermill": {
     "duration": 0.077297,
     "end_time": "2021-03-02T09:59:00.168453",
     "exception": false,
     "start_time": "2021-03-02T09:59:00.091156",
     "status": "completed"
    },
    "tags": []
   },
   "outputs": [
    {
     "data": {
      "text/plain": [
       "tensor([[  0,   0,   0,   0,   0,   0,   0,   0,   0,   0,   0,   0,   0,   0,\n",
       "           0,   0,   0,   0,   0,   0,   0,   0,   0,   0,   0,   0,   0,   0],\n",
       "        [  0,   0,   0,   0,   0,   0,   0,   0,   0,   0,   0,   0,   0,   0,\n",
       "           0,   0,   0,   0,   0,   0,   0,   0,   0,   0,   0,   0,   0,   0],\n",
       "        [  0,   0,   0,   0,   0,   0,   0,   0,   0,   0,   0,   0,   0,   0,\n",
       "           0,   0,   0,   0,   0,   0,   0,   0,   0,   0,   0,   0,   0,   0],\n",
       "        [  0,   0,   0,   0,   0,   0,   0,   0,   0,   0,   0,   0,   0,   0,\n",
       "           0,   0,   0,   0,   0,   0,   0,   0,   0,   0,   0,   0,   0,   0],\n",
       "        [  0,   0,   0,   0,   0,   0,   0,   0,   0,   0,   0,   0,   0,   0,\n",
       "           0,   0,   0,   0,   0,   0,   0,   0,   0,   0,   0,   0,   0,   0],\n",
       "        [  0,   0,   0,   0,   0,   0,   0,   0,   0,   0,   0,   0,   0,   0,\n",
       "           0,   0,   0,   0,   0,   0,   0,   0,   0,   0,   0,   0,   0,   0],\n",
       "        [  0,   0,   0,   0,   0,   0,   0,   0,   0,   0,   0,   0,   0,   0,\n",
       "           0,   0,   0,   0,   0,   0,   0,   0,   0,   0,   0,   0,   0,   0],\n",
       "        [  0,   0,   0,   0,   0,   0,   0,   0,   0,   0,   0,   0,   0,   0,\n",
       "           0,   0,   0,   0,   0,  41, 255, 107,   0,   0,   0,   0,   0,   0],\n",
       "        [  0,   0,   0,   0,   0,   0,   0,   0,   0,   0,   0,   0,  57, 108,\n",
       "         108,  51, 149, 241, 241, 243, 253, 233,   0,   0,   0,   0,   0,   0],\n",
       "        [  0,   0,   0,   0,   0,   0,   0,   0,   0,  15, 179, 228, 241, 254,\n",
       "         253, 240, 131, 132, 159, 224, 253, 190,   0,   0,   0,   0,   0,   0]],\n",
       "       dtype=torch.uint8)"
      ]
     },
     "execution_count": 9,
     "metadata": {},
     "output_type": "execute_result"
    }
   ],
   "source": [
    "imgof7=(path/'train'/'7').ls()\n",
    "tensorof7=tensor(Image.open(imgof7[1]))\n",
    "tensorof7[:10]"
   ]
  },
  {
   "cell_type": "markdown",
   "metadata": {
    "papermill": {
     "duration": 0.038317,
     "end_time": "2021-03-02T09:59:00.245926",
     "exception": false,
     "start_time": "2021-03-02T09:59:00.207609",
     "status": "completed"
    },
    "tags": []
   },
   "source": [
    "Devising a nifty function to summarise all the steps which I did in the previous section.\n",
    "\n",
    "> It's a good practice to leave a trail of small functions where you feel that some steps are to be repeated down the line. These functions will come handy later on as it will make your code re-usable."
   ]
  },
  {
   "cell_type": "code",
   "execution_count": 10,
   "metadata": {
    "execution": {
     "iopub.execute_input": "2021-03-02T09:59:00.330768Z",
     "iopub.status.busy": "2021-03-02T09:59:00.329941Z",
     "iopub.status.idle": "2021-03-02T09:59:00.333834Z",
     "shell.execute_reply": "2021-03-02T09:59:00.333254Z"
    },
    "papermill": {
     "duration": 0.049274,
     "end_time": "2021-03-02T09:59:00.333993",
     "exception": false,
     "start_time": "2021-03-02T09:59:00.284719",
     "status": "completed"
    },
    "tags": []
   },
   "outputs": [],
   "source": [
    "def tensorsofnum(imgofnum):\n",
    "    return [tensor(Image.open(img)) for img in imgofnum]"
   ]
  },
  {
   "cell_type": "markdown",
   "metadata": {
    "papermill": {
     "duration": 0.038236,
     "end_time": "2021-03-02T09:59:00.411170",
     "exception": false,
     "start_time": "2021-03-02T09:59:00.372934",
     "status": "completed"
    },
    "tags": []
   },
   "source": [
    "Utilizing the above function to build a list of tensors for the images of 3 and 7"
   ]
  },
  {
   "cell_type": "code",
   "execution_count": 11,
   "metadata": {
    "execution": {
     "iopub.execute_input": "2021-03-02T09:59:00.505806Z",
     "iopub.status.busy": "2021-03-02T09:59:00.504557Z",
     "iopub.status.idle": "2021-03-02T09:59:03.764965Z",
     "shell.execute_reply": "2021-03-02T09:59:03.765810Z"
    },
    "papermill": {
     "duration": 3.307933,
     "end_time": "2021-03-02T09:59:03.766043",
     "exception": false,
     "start_time": "2021-03-02T09:59:00.458110",
     "status": "completed"
    },
    "tags": []
   },
   "outputs": [],
   "source": [
    "tensorsof3=tensorsofnum(imgof3)\n",
    "tensorsof7=tensorsofnum(imgof7)"
   ]
  },
  {
   "cell_type": "markdown",
   "metadata": {
    "papermill": {
     "duration": 0.0466,
     "end_time": "2021-03-02T09:59:03.859558",
     "exception": false,
     "start_time": "2021-03-02T09:59:03.812958",
     "status": "completed"
    },
    "tags": []
   },
   "source": [
    "Let's see if we got all images as tensors."
   ]
  },
  {
   "cell_type": "code",
   "execution_count": 12,
   "metadata": {
    "execution": {
     "iopub.execute_input": "2021-03-02T09:59:03.958722Z",
     "iopub.status.busy": "2021-03-02T09:59:03.957945Z",
     "iopub.status.idle": "2021-03-02T09:59:03.962529Z",
     "shell.execute_reply": "2021-03-02T09:59:03.961839Z"
    },
    "papermill": {
     "duration": 0.056801,
     "end_time": "2021-03-02T09:59:03.962657",
     "exception": false,
     "start_time": "2021-03-02T09:59:03.905856",
     "status": "completed"
    },
    "tags": []
   },
   "outputs": [
    {
     "data": {
      "text/plain": [
       "(6131, 6265)"
      ]
     },
     "execution_count": 12,
     "metadata": {},
     "output_type": "execute_result"
    }
   ],
   "source": [
    "(len(tensorsof3),len(tensorsof7))"
   ]
  },
  {
   "cell_type": "markdown",
   "metadata": {
    "papermill": {
     "duration": 0.040036,
     "end_time": "2021-03-02T09:59:04.042607",
     "exception": false,
     "start_time": "2021-03-02T09:59:04.002571",
     "status": "completed"
    },
    "tags": []
   },
   "source": [
    "It's looking good. let's move ahead.\n",
    "\n",
    "We have got our images as numbers. What's next? From now on we can use these numbers to build a model which can distinguish between 3 and 7. To do this we won't use any machine learning, rather we would use simple programming to achieve this.\n",
    "\n",
    "One simple model would be find out how an ideal 3 or an ideal 7 would look like and then find which sample images are more close to the ideal 3 or ideal 7.\n",
    "\n",
    "Finding the ideal 3 and ideal 7 is relatively easy. We will walk the following path to do this-->\n",
    "\n",
    "* Combine all of our 3-tensor and 7-tensor into a single tensor.\n",
    "* Find the average of these combined tensor(average of 3 and 7 separately).\n",
    "\n",
    "To combine the tensors of 3 and 7 into a single tensor, we will stack all these tensors on top of each other. Pytorch provides a function `stack` to do this."
   ]
  },
  {
   "cell_type": "code",
   "execution_count": 13,
   "metadata": {
    "execution": {
     "iopub.execute_input": "2021-03-02T09:59:04.130753Z",
     "iopub.status.busy": "2021-03-02T09:59:04.129952Z",
     "iopub.status.idle": "2021-03-02T09:59:04.243672Z",
     "shell.execute_reply": "2021-03-02T09:59:04.242952Z"
    },
    "papermill": {
     "duration": 0.16174,
     "end_time": "2021-03-02T09:59:04.243830",
     "exception": false,
     "start_time": "2021-03-02T09:59:04.082090",
     "status": "completed"
    },
    "tags": []
   },
   "outputs": [
    {
     "data": {
      "text/plain": [
       "torch.Size([6131, 28, 28])"
      ]
     },
     "execution_count": 13,
     "metadata": {},
     "output_type": "execute_result"
    }
   ],
   "source": [
    "stacked3=torch.stack(tensorsof3).float()/255\n",
    "stacked7=torch.stack(tensorsof7).float()/255\n",
    "stacked3.shape"
   ]
  },
  {
   "cell_type": "markdown",
   "metadata": {
    "papermill": {
     "duration": 0.03935,
     "end_time": "2021-03-02T09:59:04.323115",
     "exception": false,
     "start_time": "2021-03-02T09:59:04.283765",
     "status": "completed"
    },
    "tags": []
   },
   "source": [
    "Here we go. I stacked the 3's and 7's into a single tensor and printed out the shape of the tensor to make sure that I didn't lose any information. As you see, `tensor3` was of shape 6131(refer to previous sections) and the `stacked3` also has a size of 6131. What are the extra numbers? \n",
    "\n",
    "The extra numbers that you see denotes that the resulting tensor is of `28*28` pixels size.\n",
    "\n",
    "This tensor i.e. 'stacked3' is known as a rank-3 tensor which means that it has 3 dimensions.\n",
    "\n",
    "Next, I will find the average of the stacked pixels using `mean` function like so."
   ]
  },
  {
   "cell_type": "code",
   "execution_count": 14,
   "metadata": {
    "execution": {
     "iopub.execute_input": "2021-03-02T09:59:04.410569Z",
     "iopub.status.busy": "2021-03-02T09:59:04.409587Z",
     "iopub.status.idle": "2021-03-02T09:59:04.498338Z",
     "shell.execute_reply": "2021-03-02T09:59:04.499345Z"
    },
    "papermill": {
     "duration": 0.136836,
     "end_time": "2021-03-02T09:59:04.499524",
     "exception": false,
     "start_time": "2021-03-02T09:59:04.362688",
     "status": "completed"
    },
    "tags": []
   },
   "outputs": [
    {
     "data": {
      "text/plain": [
       "<matplotlib.axes._subplots.AxesSubplot at 0x7f3e059ce310>"
      ]
     },
     "execution_count": 14,
     "metadata": {},
     "output_type": "execute_result"
    },
    {
     "data": {
      "image/png": "[encoded data removed]",
      "text/plain": [
       "<Figure size 72x72 with 1 Axes>"
      ]
     },
     "metadata": {
      "needs_background": "light"
     },
     "output_type": "display_data"
    }
   ],
   "source": [
    "ideal3=stacked3.mean(0)\n",
    "show_image(ideal3)"
   ]
  },
  {
   "cell_type": "markdown",
   "metadata": {
    "papermill": {
     "duration": 0.04133,
     "end_time": "2021-03-02T09:59:04.582634",
     "exception": false,
     "start_time": "2021-03-02T09:59:04.541304",
     "status": "completed"
    },
    "tags": []
   },
   "source": [
    "We can do the same for finding the ideal 7"
   ]
  },
  {
   "cell_type": "code",
   "execution_count": 15,
   "metadata": {
    "execution": {
     "iopub.execute_input": "2021-03-02T09:59:04.674972Z",
     "iopub.status.busy": "2021-03-02T09:59:04.673896Z",
     "iopub.status.idle": "2021-03-02T09:59:04.720377Z",
     "shell.execute_reply": "2021-03-02T09:59:04.720902Z"
    },
    "papermill": {
     "duration": 0.095392,
     "end_time": "2021-03-02T09:59:04.721089",
     "exception": false,
     "start_time": "2021-03-02T09:59:04.625697",
     "status": "completed"
    },
    "tags": []
   },
   "outputs": [
    {
     "data": {
      "text/plain": [
       "<matplotlib.axes._subplots.AxesSubplot at 0x7f3e0533f210>"
      ]
     },
     "execution_count": 15,
     "metadata": {},
     "output_type": "execute_result"
    },
    {
     "data": {
      "image/png": "[encoded data removed]",
      "text/plain": [
       "<Figure size 72x72 with 1 Axes>"
      ]
     },
     "metadata": {
      "needs_background": "light"
     },
     "output_type": "display_data"
    }
   ],
   "source": [
    "ideal7=stacked7.mean(0)\n",
    "show_image(ideal7)"
   ]
  },
  {
   "cell_type": "markdown",
   "metadata": {
    "papermill": {
     "duration": 0.042833,
     "end_time": "2021-03-02T09:59:04.806308",
     "exception": false,
     "start_time": "2021-03-02T09:59:04.763475",
     "status": "completed"
    },
    "tags": []
   },
   "source": [
    "## Cooking up the model🍳"
   ]
  },
  {
   "cell_type": "markdown",
   "metadata": {
    "papermill": {
     "duration": 0.043208,
     "end_time": "2021-03-02T09:59:04.892313",
     "exception": false,
     "start_time": "2021-03-02T09:59:04.849105",
     "status": "completed"
    },
    "tags": []
   },
   "source": [
    "Our humble model has to find out which samples are nearer to the ideal 3 and which samples are nearer to the ideal 7. I will pull out a sample 3 and a sample 7 from the stack tensor which I created in the previous section and then find which is nearer to the ideal 7 and which is nearer to the ideal 3.\n",
    "\n",
    "First I will take our one sample 3 and one sample 7 from our stacked 3 and stacked 7."
   ]
  },
  {
   "cell_type": "code",
   "execution_count": 16,
   "metadata": {
    "execution": {
     "iopub.execute_input": "2021-03-02T09:59:05.025206Z",
     "iopub.status.busy": "2021-03-02T09:59:05.024043Z",
     "iopub.status.idle": "2021-03-02T09:59:05.070584Z",
     "shell.execute_reply": "2021-03-02T09:59:05.072480Z"
    },
    "papermill": {
     "duration": 0.112981,
     "end_time": "2021-03-02T09:59:05.073015",
     "exception": false,
     "start_time": "2021-03-02T09:59:04.960034",
     "status": "completed"
    },
    "tags": []
   },
   "outputs": [
    {
     "data": {
      "text/plain": [
       "<matplotlib.axes._subplots.AxesSubplot at 0x7f3e052fed50>"
      ]
     },
     "execution_count": 16,
     "metadata": {},
     "output_type": "execute_result"
    },
    {
     "data": {
      "image/png": "[encoded data removed]",
      "text/plain": [
       "<Figure size 72x72 with 1 Axes>"
      ]
     },
     "metadata": {
      "needs_background": "light"
     },
     "output_type": "display_data"
    }
   ],
   "source": [
    "sample3=stacked3[0]\n",
    "show_image(sample3)"
   ]
  },
  {
   "cell_type": "code",
   "execution_count": 17,
   "metadata": {
    "execution": {
     "iopub.execute_input": "2021-03-02T09:59:05.189495Z",
     "iopub.status.busy": "2021-03-02T09:59:05.188746Z",
     "iopub.status.idle": "2021-03-02T09:59:05.234899Z",
     "shell.execute_reply": "2021-03-02T09:59:05.234272Z"
    },
    "papermill": {
     "duration": 0.093471,
     "end_time": "2021-03-02T09:59:05.235050",
     "exception": false,
     "start_time": "2021-03-02T09:59:05.141579",
     "status": "completed"
    },
    "tags": []
   },
   "outputs": [
    {
     "data": {
      "text/plain": [
       "<matplotlib.axes._subplots.AxesSubplot at 0x7f3e0524f150>"
      ]
     },
     "execution_count": 17,
     "metadata": {},
     "output_type": "execute_result"
    },
    {
     "data": {
      "image/png": "[encoded data removed]",
      "text/plain": [
       "<Figure size 72x72 with 1 Axes>"
      ]
     },
     "metadata": {
      "needs_background": "light"
     },
     "output_type": "display_data"
    }
   ],
   "source": [
    "sample7=stacked7[0]\n",
    "show_image(sample7)"
   ]
  },
  {
   "cell_type": "markdown",
   "metadata": {
    "papermill": {
     "duration": 0.044269,
     "end_time": "2021-03-02T09:59:05.324367",
     "exception": false,
     "start_time": "2021-03-02T09:59:05.280098",
     "status": "completed"
    },
    "tags": []
   },
   "source": [
    "Here I will show one of the methods to find the distance of the samples from the ideal 3 and ideal 7. Another method in adiiton to this is shown in the [fastook draft chapter_04](https://github.com/fastai/fastbook/blob/master/04_mnist_basics.ipynb) and I suggest that you read the book as such methods are explained in much more vivid way in that chapter.\n",
    "\n",
    "The method which I show here is to find the mean of the absolute of the differences between the sample data with the ideal data. Now, that's a mouthful 🤯 so I will put it in simple terms.\n",
    "\n",
    "You can find the distance between the sample and ideal data point by getting the difference between the two data points but you can't just find the difference and add up all the differences. This is because some data points fall on the negative side and some on the positive side. Adding up there differences will cancel each other iut. Due to this we find the absolute values of these differences and then find the mean like so. "
   ]
  },
  {
   "cell_type": "code",
   "execution_count": 18,
   "metadata": {
    "execution": {
     "iopub.execute_input": "2021-03-02T09:59:05.418045Z",
     "iopub.status.busy": "2021-03-02T09:59:05.417222Z",
     "iopub.status.idle": "2021-03-02T09:59:05.488219Z",
     "shell.execute_reply": "2021-03-02T09:59:05.488895Z"
    },
    "papermill": {
     "duration": 0.120002,
     "end_time": "2021-03-02T09:59:05.489139",
     "exception": false,
     "start_time": "2021-03-02T09:59:05.369137",
     "status": "completed"
    },
    "tags": []
   },
   "outputs": [
    {
     "data": {
      "text/plain": [
       "tensor(0.1479)"
      ]
     },
     "execution_count": 18,
     "metadata": {},
     "output_type": "execute_result"
    }
   ],
   "source": [
    "distfromideal3=(sample3-stacked3).abs().mean()\n",
    "distfromideal3"
   ]
  },
  {
   "cell_type": "markdown",
   "metadata": {
    "papermill": {
     "duration": 0.053768,
     "end_time": "2021-03-02T09:59:05.608432",
     "exception": false,
     "start_time": "2021-03-02T09:59:05.554664",
     "status": "completed"
    },
    "tags": []
   },
   "source": []
  },
  {
   "cell_type": "markdown",
   "metadata": {
    "papermill": {
     "duration": 0.05356,
     "end_time": "2021-03-02T09:59:05.716149",
     "exception": false,
     "start_time": "2021-03-02T09:59:05.662589",
     "status": "completed"
    },
    "tags": []
   },
   "source": [
    "Similar thing we will do for the distance of sample 7 from the ideal 7"
   ]
  },
  {
   "cell_type": "code",
   "execution_count": 19,
   "metadata": {
    "execution": {
     "iopub.execute_input": "2021-03-02T09:59:05.818596Z",
     "iopub.status.busy": "2021-03-02T09:59:05.817751Z",
     "iopub.status.idle": "2021-03-02T09:59:05.859321Z",
     "shell.execute_reply": "2021-03-02T09:59:05.858476Z"
    },
    "papermill": {
     "duration": 0.09223,
     "end_time": "2021-03-02T09:59:05.859488",
     "exception": false,
     "start_time": "2021-03-02T09:59:05.767258",
     "status": "completed"
    },
    "tags": []
   },
   "outputs": [
    {
     "data": {
      "text/plain": [
       "tensor(0.2049)"
      ]
     },
     "execution_count": 19,
     "metadata": {},
     "output_type": "execute_result"
    }
   ],
   "source": [
    "distfromideal7=(sample3-stacked7).abs().mean()\n",
    "distfromideal7"
   ]
  },
  {
   "cell_type": "markdown",
   "metadata": {
    "papermill": {
     "duration": 0.045133,
     "end_time": "2021-03-02T09:59:05.953256",
     "exception": false,
     "start_time": "2021-03-02T09:59:05.908123",
     "status": "completed"
    },
    "tags": []
   },
   "source": [
    "Look! how the sample 3's distance from the ideal 3 is less than the sample 3's distance from the ideal 7. This property can be used to identify if a sample is closer to 3 or 7. \n",
    "\n",
    "The closer a sample is to a particular ideal digit, the more likely it is that the sample belongs to that category. The thing that we did above to calculate loss is known as mean absolute value and in fancier terms is known as l1_loss.\n",
    "\n",
    "So, here we goes another jargon which we successfully debunked.👍\n",
    "\n",
    "This is available in pytorch and in fastai as `F.l1_loss`. Look below how I do this."
   ]
  },
  {
   "cell_type": "code",
   "execution_count": 20,
   "metadata": {
    "execution": {
     "iopub.execute_input": "2021-03-02T09:59:06.055251Z",
     "iopub.status.busy": "2021-03-02T09:59:06.053499Z",
     "iopub.status.idle": "2021-03-02T09:59:06.065190Z",
     "shell.execute_reply": "2021-03-02T09:59:06.065728Z"
    },
    "papermill": {
     "duration": 0.067527,
     "end_time": "2021-03-02T09:59:06.065901",
     "exception": false,
     "start_time": "2021-03-02T09:59:05.998374",
     "status": "completed"
    },
    "tags": []
   },
   "outputs": [
    {
     "name": "stderr",
     "output_type": "stream",
     "text": [
      "/opt/conda/lib/python3.7/site-packages/ipykernel_launcher.py:1: UserWarning: Using a target size (torch.Size([6131, 28, 28])) that is different to the input size (torch.Size([28, 28])). This will likely lead to incorrect results due to broadcasting. Please ensure they have the same size.\n",
      "  \"\"\"Entry point for launching an IPython kernel.\n"
     ]
    },
    {
     "data": {
      "text/plain": [
       "tensor(0.1479)"
      ]
     },
     "execution_count": 20,
     "metadata": {},
     "output_type": "execute_result"
    }
   ],
   "source": [
    "F.l1_loss(sample3.float(),stacked3)"
   ]
  },
  {
   "cell_type": "markdown",
   "metadata": {
    "papermill": {
     "duration": 0.047311,
     "end_time": "2021-03-02T09:59:06.159729",
     "exception": false,
     "start_time": "2021-03-02T09:59:06.112418",
     "status": "completed"
    },
    "tags": []
   },
   "source": [
    "Now we stack the digit samples from the valid directory. We can use this later to measure the accuracy of our model.\n",
    "Here we will repeat all the steps which we did in previous sections."
   ]
  },
  {
   "cell_type": "code",
   "execution_count": 21,
   "metadata": {
    "execution": {
     "iopub.execute_input": "2021-03-02T09:59:06.261381Z",
     "iopub.status.busy": "2021-03-02T09:59:06.260218Z",
     "iopub.status.idle": "2021-03-02T09:59:06.823737Z",
     "shell.execute_reply": "2021-03-02T09:59:06.822964Z"
    },
    "papermill": {
     "duration": 0.617309,
     "end_time": "2021-03-02T09:59:06.823903",
     "exception": false,
     "start_time": "2021-03-02T09:59:06.206594",
     "status": "completed"
    },
    "tags": []
   },
   "outputs": [
    {
     "data": {
      "text/plain": [
       "(1010, 1028)"
      ]
     },
     "execution_count": 21,
     "metadata": {},
     "output_type": "execute_result"
    }
   ],
   "source": [
    "validset_3=(path/'valid'/'3').ls()\n",
    "validset_7=(path/'valid'/'7').ls()\n",
    "validset_3_tensors=tensorsofnum(validset_3)\n",
    "validset_7_tensors=tensorsofnum(validset_7)\n",
    "(len(validset_3_tensors),len(validset_7_tensors))"
   ]
  },
  {
   "cell_type": "code",
   "execution_count": 22,
   "metadata": {
    "execution": {
     "iopub.execute_input": "2021-03-02T09:59:06.939051Z",
     "iopub.status.busy": "2021-03-02T09:59:06.937273Z",
     "iopub.status.idle": "2021-03-02T09:59:06.950464Z",
     "shell.execute_reply": "2021-03-02T09:59:06.949445Z"
    },
    "papermill": {
     "duration": 0.078189,
     "end_time": "2021-03-02T09:59:06.950684",
     "exception": false,
     "start_time": "2021-03-02T09:59:06.872495",
     "status": "completed"
    },
    "tags": []
   },
   "outputs": [],
   "source": [
    "valid_stacked3=torch.stack(validset_3_tensors).float()/255\n",
    "valid_stacked7=torch.stack(validset_7_tensors).float()/255"
   ]
  },
  {
   "cell_type": "markdown",
   "metadata": {
    "papermill": {
     "duration": 0.078263,
     "end_time": "2021-03-02T09:59:07.094749",
     "exception": false,
     "start_time": "2021-03-02T09:59:07.016486",
     "status": "completed"
    },
    "tags": []
   },
   "source": [
    "We can create a function to calculate the distance of a sample from the ideal 3."
   ]
  },
  {
   "cell_type": "code",
   "execution_count": 23,
   "metadata": {
    "execution": {
     "iopub.execute_input": "2021-03-02T09:59:07.220735Z",
     "iopub.status.busy": "2021-03-02T09:59:07.219515Z",
     "iopub.status.idle": "2021-03-02T09:59:07.222253Z",
     "shell.execute_reply": "2021-03-02T09:59:07.222919Z"
    },
    "papermill": {
     "duration": 0.056916,
     "end_time": "2021-03-02T09:59:07.223091",
     "exception": false,
     "start_time": "2021-03-02T09:59:07.166175",
     "status": "completed"
    },
    "tags": []
   },
   "outputs": [],
   "source": [
    "def distance(sample, mean): return (sample-mean).abs().mean((-1,-2))    "
   ]
  },
  {
   "cell_type": "markdown",
   "metadata": {
    "papermill": {
     "duration": 0.047433,
     "end_time": "2021-03-02T09:59:07.317453",
     "exception": false,
     "start_time": "2021-03-02T09:59:07.270020",
     "status": "completed"
    },
    "tags": []
   },
   "source": [
    "Checking if the function works."
   ]
  },
  {
   "cell_type": "code",
   "execution_count": 24,
   "metadata": {
    "execution": {
     "iopub.execute_input": "2021-03-02T09:59:07.426120Z",
     "iopub.status.busy": "2021-03-02T09:59:07.415228Z",
     "iopub.status.idle": "2021-03-02T09:59:07.449364Z",
     "shell.execute_reply": "2021-03-02T09:59:07.450207Z"
    },
    "papermill": {
     "duration": 0.085855,
     "end_time": "2021-03-02T09:59:07.450413",
     "exception": false,
     "start_time": "2021-03-02T09:59:07.364558",
     "status": "completed"
    },
    "tags": []
   },
   "outputs": [
    {
     "data": {
      "text/plain": [
       "tensor([0.0000, 0.1598, 0.1185,  ..., 0.1731, 0.1049, 0.1627])"
      ]
     },
     "execution_count": 24,
     "metadata": {},
     "output_type": "execute_result"
    }
   ],
   "source": [
    "dist=distance(sample3, stacked3)\n",
    "dist"
   ]
  },
  {
   "cell_type": "markdown",
   "metadata": {
    "papermill": {
     "duration": 0.05538,
     "end_time": "2021-03-02T09:59:07.566698",
     "exception": false,
     "start_time": "2021-03-02T09:59:07.511318",
     "status": "completed"
    },
    "tags": []
   },
   "source": [
    "Cool! it works.\n",
    "\n",
    "We can do one more thing. We can create a function which would compare a sample's distance from the ideal 3 or ideal 7 and It would return true if it's close to 3 or else will return false.\n",
    "\n",
    "This will be our humble model."
   ]
  },
  {
   "cell_type": "code",
   "execution_count": 25,
   "metadata": {
    "execution": {
     "iopub.execute_input": "2021-03-02T09:59:07.670023Z",
     "iopub.status.busy": "2021-03-02T09:59:07.669194Z",
     "iopub.status.idle": "2021-03-02T09:59:07.672805Z",
     "shell.execute_reply": "2021-03-02T09:59:07.672222Z"
    },
    "papermill": {
     "duration": 0.058184,
     "end_time": "2021-03-02T09:59:07.672984",
     "exception": false,
     "start_time": "2021-03-02T09:59:07.614800",
     "status": "completed"
    },
    "tags": []
   },
   "outputs": [],
   "source": [
    "def is3(sample):    return distance(sample, ideal3)<distance(sample, ideal7)"
   ]
  },
  {
   "cell_type": "markdown",
   "metadata": {
    "papermill": {
     "duration": 0.047947,
     "end_time": "2021-03-02T09:59:07.769351",
     "exception": false,
     "start_time": "2021-03-02T09:59:07.721404",
     "status": "completed"
    },
    "tags": []
   },
   "source": [
    "Creating a quick test to see if our model works.\n",
    "> As you walk through the steps in your project, small tests like this helps you to keep tabs on your mistakes."
   ]
  },
  {
   "cell_type": "code",
   "execution_count": 26,
   "metadata": {
    "execution": {
     "iopub.execute_input": "2021-03-02T09:59:07.871347Z",
     "iopub.status.busy": "2021-03-02T09:59:07.870561Z",
     "iopub.status.idle": "2021-03-02T09:59:07.876977Z",
     "shell.execute_reply": "2021-03-02T09:59:07.876375Z"
    },
    "papermill": {
     "duration": 0.059792,
     "end_time": "2021-03-02T09:59:07.877115",
     "exception": false,
     "start_time": "2021-03-02T09:59:07.817323",
     "status": "completed"
    },
    "tags": []
   },
   "outputs": [
    {
     "data": {
      "text/plain": [
       "tensor(True)"
      ]
     },
     "execution_count": 26,
     "metadata": {},
     "output_type": "execute_result"
    }
   ],
   "source": [
    "is3(sample3)"
   ]
  },
  {
   "cell_type": "code",
   "execution_count": 27,
   "metadata": {
    "execution": {
     "iopub.execute_input": "2021-03-02T09:59:07.977774Z",
     "iopub.status.busy": "2021-03-02T09:59:07.977033Z",
     "iopub.status.idle": "2021-03-02T09:59:07.982911Z",
     "shell.execute_reply": "2021-03-02T09:59:07.983497Z"
    },
    "papermill": {
     "duration": 0.058587,
     "end_time": "2021-03-02T09:59:07.983665",
     "exception": false,
     "start_time": "2021-03-02T09:59:07.925078",
     "status": "completed"
    },
    "tags": []
   },
   "outputs": [
    {
     "data": {
      "text/plain": [
       "tensor(False)"
      ]
     },
     "execution_count": 27,
     "metadata": {},
     "output_type": "execute_result"
    }
   ],
   "source": [
    "is3(sample7)"
   ]
  },
  {
   "cell_type": "markdown",
   "metadata": {
    "papermill": {
     "duration": 0.048238,
     "end_time": "2021-03-02T09:59:08.081528",
     "exception": false,
     "start_time": "2021-03-02T09:59:08.033290",
     "status": "completed"
    },
    "tags": []
   },
   "source": [
    "We also need a metric to measure the accuracy of our predcition. To do this we will take the predictions of all the samples of 3 and find the average. For samples of 7 we will take the inverse of the 7's prediction's average.\n",
    "\n",
    "All this will be done for the validation set as those are the samples which we haven't seen yet."
   ]
  },
  {
   "cell_type": "code",
   "execution_count": 28,
   "metadata": {
    "execution": {
     "iopub.execute_input": "2021-03-02T09:59:08.184003Z",
     "iopub.status.busy": "2021-03-02T09:59:08.183298Z",
     "iopub.status.idle": "2021-03-02T09:59:08.194468Z",
     "shell.execute_reply": "2021-03-02T09:59:08.193785Z"
    },
    "papermill": {
     "duration": 0.064468,
     "end_time": "2021-03-02T09:59:08.194607",
     "exception": false,
     "start_time": "2021-03-02T09:59:08.130139",
     "status": "completed"
    },
    "tags": []
   },
   "outputs": [
    {
     "data": {
      "text/plain": [
       "tensor(0.9168)"
      ]
     },
     "execution_count": 28,
     "metadata": {},
     "output_type": "execute_result"
    }
   ],
   "source": [
    "accuracyof3= is3(valid_stacked3).float().mean()\n",
    "accuracyof3"
   ]
  },
  {
   "cell_type": "code",
   "execution_count": 29,
   "metadata": {
    "execution": {
     "iopub.execute_input": "2021-03-02T09:59:08.376623Z",
     "iopub.status.busy": "2021-03-02T09:59:08.375654Z",
     "iopub.status.idle": "2021-03-02T09:59:08.384183Z",
     "shell.execute_reply": "2021-03-02T09:59:08.384739Z"
    },
    "papermill": {
     "duration": 0.139677,
     "end_time": "2021-03-02T09:59:08.384925",
     "exception": false,
     "start_time": "2021-03-02T09:59:08.245248",
     "status": "completed"
    },
    "tags": []
   },
   "outputs": [
    {
     "data": {
      "text/plain": [
       "tensor(0.9854)"
      ]
     },
     "execution_count": 29,
     "metadata": {},
     "output_type": "execute_result"
    }
   ],
   "source": [
    "accuracyof7= (1-is3(valid_stacked7).float()).mean()\n",
    "accuracyof7"
   ]
  },
  {
   "cell_type": "markdown",
   "metadata": {
    "papermill": {
     "duration": 0.049445,
     "end_time": "2021-03-02T09:59:08.483738",
     "exception": false,
     "start_time": "2021-03-02T09:59:08.434293",
     "status": "completed"
    },
    "tags": []
   },
   "source": [
    "As you can see our humble model predicts with a good amount of accuracy (both 3s and 7s are 90+%). However this is not a \"self learning model\" as it does not do anything to improve it's accuracy overtime. It doesn't use the accuracy which we calculated in previous section, to improve it's \"distance\" finding capability.\n",
    "\n",
    "Also, there are many other possible digits apart from the two which we used in this example and we would need more robust method to make the model \"recognize\" other digits.\n",
    "\n",
    "Being said that this is the core of every machine learning algorithms out there. We can say that here we have built the \"core steps\" on which a machine learning models are built. The steps can be summarized as below-->\n",
    "\n",
    "* Gather the data.\n",
    "* Find the ideal data point.\n",
    "* Compare every data point with the ideal data point and predict if a particular data point is close enough to an ideal value so that it can be considered belonging to a particular category.\n",
    "* Measure the accuracy of the predictions.\n",
    "* Repeat the above steps to improve the accuracy till we get a satisfactory amount of accuracy.\n",
    "\n",
    "The last step is what we didn't create from scratch and this missing piece is preventing our model to be called as a \"self learning algorithm\".\n",
    "\n",
    "If you want to know more about how we can extend our steps to create a self-learning algorithm then check out the draft of the fastbook [here](https://github.com/fastai/fastbook/blob/master/04_mnist_basics.ipynb) or buy the fastbook [here](https://www.amazon.in/Deep-Learning-Coders-fastai-PyTorch/dp/1492045527)\n",
    "\n",
    "I am planning to extend this series to cover the steps which I didn't cover in this blog post but I am promising nothing at this moment as I have many other \"pending\" projects which I need to wrap up (about which I will soon publish a story once I am through with them).\n",
    "\n",
    "Lastly I would like to say that this post and the other posts in the this series would not be possible without the crisp and clear contents produced by [fastai](https://www.fast.ai/). Much of the code here are straightaway taken from the [fastook draft chapter_04](https://github.com/fastai/fastbook/blob/master/04_mnist_basics.ipynb) because I believe that the code over there are already optimized and easy to understand and I don't want to modify the code just for the sake of it."
   ]
  }
 ],
 "metadata": {
  "kernelspec": {
   "display_name": "Python 3",
   "language": "python",
   "name": "python3"
  },
  "language_info": {
   "codemirror_mode": {
    "name": "ipython",
    "version": 3
   },
   "file_extension": ".py",
   "mimetype": "text/x-python",
   "name": "python",
   "nbconvert_exporter": "python",
   "pygments_lexer": "ipython3",
   "version": "3.7.6"
  },
  "papermill": {
   "duration": 23.672929,
   "end_time": "2021-03-02T09:59:08.643377",
   "environment_variables": {},
   "exception": null,
   "input_path": "__notebook__.ipynb",
   "output_path": "__notebook__.ipynb",
   "parameters": {},
   "start_time": "2021-03-02T09:58:44.970448",
   "version": "2.1.0"
  }
 },
 "nbformat": 4,
 "nbformat_minor": 4
}
